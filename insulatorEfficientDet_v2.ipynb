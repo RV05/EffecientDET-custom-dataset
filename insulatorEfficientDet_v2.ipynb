{
  "nbformat": 4,
  "nbformat_minor": 0,
  "metadata": {
    "colab": {
      "name": "insulatorEfficientDet-v2",
      "provenance": [],
      "collapsed_sections": [],
      "include_colab_link": true
    },
    "kernelspec": {
      "name": "python3",
      "display_name": "Python 3"
    },
    "accelerator": "GPU"
  },
  "cells": [
    {
      "cell_type": "markdown",
      "metadata": {
        "id": "view-in-github",
        "colab_type": "text"
      },
      "source": [
        "<a href=\"https://colab.research.google.com/github/RV05/EffecientDET-custom-dataset/blob/main/insulatorEfficientDet_v2.ipynb\" target=\"_parent\"><img src=\"https://colab.research.google.com/assets/colab-badge.svg\" alt=\"Open In Colab\"/></a>"
      ]
    },
    {
      "cell_type": "code",
      "metadata": {
        "id": "X2EDGrtsba1E",
        "colab": {
          "base_uri": "https://localhost:8080/"
        },
        "outputId": "1f86ef15-470d-4282-b9bd-ac8e9c8a06e5"
      },
      "source": [
        "#our fork of the Tessellate-Imaging image detection library\n",
        "#!rm -rf Monk_Object_Detection\n",
        "! git clone https://github.com/roboflow-ai/Monk_Object_Detection.git"
      ],
      "execution_count": null,
      "outputs": [
        {
          "output_type": "stream",
          "text": [
            "Cloning into 'Monk_Object_Detection'...\n",
            "remote: Enumerating objects: 3747, done.\u001b[K\n",
            "remote: Total 3747 (delta 0), reused 0 (delta 0), pack-reused 3747\u001b[K\n",
            "Receiving objects: 100% (3747/3747), 132.20 MiB | 39.33 MiB/s, done.\n",
            "Resolving deltas: 100% (800/800), done.\n",
            "Checking out files: 100% (4032/4032), done.\n"
          ],
          "name": "stdout"
        }
      ]
    },
    {
      "cell_type": "code",
      "metadata": {
        "id": "EIu1PTPlcAuU",
        "colab": {
          "base_uri": "https://localhost:8080/"
        },
        "outputId": "dbf8fd05-c6e4-4125-ad7e-c6ea44ae7abd"
      },
      "source": [
        "# For colab use the command below\n",
        "# Set up library requirments\n",
        "! cd Monk_Object_Detection/3_mxrcnn/installation && cat requirements_colab.txt | xargs -n 1 -L 1 pip install"
      ],
      "execution_count": null,
      "outputs": [
        {
          "output_type": "stream",
          "text": [
            "Collecting mxnet-cu100\n",
            "\u001b[?25l  Downloading https://files.pythonhosted.org/packages/85/09/a13d45136ce70589cceee4081f485f8f47fc5eb716d07981d4c2547763df/mxnet_cu100-1.8.0.post0-py2.py3-none-manylinux2014_x86_64.whl (352.6MB)\n",
            "\u001b[K     |████████████████████████████████| 352.6MB 48kB/s \n",
            "\u001b[?25hRequirement already satisfied: numpy<2.0.0,>1.16.0 in /usr/local/lib/python3.7/dist-packages (from mxnet-cu100) (1.19.5)\n",
            "Collecting graphviz<0.9.0,>=0.8.1\n",
            "  Downloading https://files.pythonhosted.org/packages/53/39/4ab213673844e0c004bed8a0781a0721a3f6bb23eb8854ee75c236428892/graphviz-0.8.4-py2.py3-none-any.whl\n",
            "Requirement already satisfied: requests<3,>=2.20.0 in /usr/local/lib/python3.7/dist-packages (from mxnet-cu100) (2.23.0)\n",
            "Requirement already satisfied: certifi>=2017.4.17 in /usr/local/lib/python3.7/dist-packages (from requests<3,>=2.20.0->mxnet-cu100) (2020.12.5)\n",
            "Requirement already satisfied: idna<3,>=2.5 in /usr/local/lib/python3.7/dist-packages (from requests<3,>=2.20.0->mxnet-cu100) (2.10)\n",
            "Requirement already satisfied: chardet<4,>=3.0.2 in /usr/local/lib/python3.7/dist-packages (from requests<3,>=2.20.0->mxnet-cu100) (3.0.4)\n",
            "Requirement already satisfied: urllib3!=1.25.0,!=1.25.1,<1.26,>=1.21.1 in /usr/local/lib/python3.7/dist-packages (from requests<3,>=2.20.0->mxnet-cu100) (1.24.3)\n",
            "Installing collected packages: graphviz, mxnet-cu100\n",
            "  Found existing installation: graphviz 0.10.1\n",
            "    Uninstalling graphviz-0.10.1:\n",
            "      Successfully uninstalled graphviz-0.10.1\n",
            "Successfully installed graphviz-0.8.4 mxnet-cu100-1.8.0.post0\n",
            "Collecting dicttoxml\n",
            "  Downloading https://files.pythonhosted.org/packages/74/36/534db111db9e7610a41641a1f6669a964aacaf51858f466de264cc8dcdd9/dicttoxml-1.7.4.tar.gz\n",
            "Building wheels for collected packages: dicttoxml\n",
            "  Building wheel for dicttoxml (setup.py) ... \u001b[?25l\u001b[?25hdone\n",
            "  Created wheel for dicttoxml: filename=dicttoxml-1.7.4-cp37-none-any.whl size=17452 sha256=ceba04e441685788db5f3373fe8e9d7b8b49390874819d291446cda5dc8f47a8\n",
            "  Stored in directory: /root/.cache/pip/wheels/62/4f/a3/afd4a68f5add45a668c14efa53b64d5cffb2be6bacf993c151\n",
            "Successfully built dicttoxml\n",
            "Installing collected packages: dicttoxml\n",
            "Successfully installed dicttoxml-1.7.4\n",
            "Collecting xmltodict\n",
            "  Downloading https://files.pythonhosted.org/packages/28/fd/30d5c1d3ac29ce229f6bdc40bbc20b28f716e8b363140c26eff19122d8a5/xmltodict-0.12.0-py2.py3-none-any.whl\n",
            "Installing collected packages: xmltodict\n",
            "Successfully installed xmltodict-0.12.0\n",
            "Requirement already satisfied: pycocotools from git+https://github.com/abhi-kumar/cocoapi.git#egg=pycocotools&subdirectory=PythonAPI in /usr/local/lib/python3.7/dist-packages (2.0.2)\n",
            "Requirement already satisfied: setuptools>=18.0 in /usr/local/lib/python3.7/dist-packages (from pycocotools) (54.2.0)\n",
            "Requirement already satisfied: cython>=0.27.3 in /usr/local/lib/python3.7/dist-packages (from pycocotools) (0.29.22)\n",
            "Requirement already satisfied: matplotlib>=2.1.0 in /usr/local/lib/python3.7/dist-packages (from pycocotools) (3.2.2)\n",
            "Requirement already satisfied: pyparsing!=2.0.4,!=2.1.2,!=2.1.6,>=2.0.1 in /usr/local/lib/python3.7/dist-packages (from matplotlib>=2.1.0->pycocotools) (2.4.7)\n",
            "Requirement already satisfied: cycler>=0.10 in /usr/local/lib/python3.7/dist-packages (from matplotlib>=2.1.0->pycocotools) (0.10.0)\n",
            "Requirement already satisfied: python-dateutil>=2.1 in /usr/local/lib/python3.7/dist-packages (from matplotlib>=2.1.0->pycocotools) (2.8.1)\n",
            "Requirement already satisfied: kiwisolver>=1.0.1 in /usr/local/lib/python3.7/dist-packages (from matplotlib>=2.1.0->pycocotools) (1.3.1)\n",
            "Requirement already satisfied: numpy>=1.11 in /usr/local/lib/python3.7/dist-packages (from matplotlib>=2.1.0->pycocotools) (1.19.5)\n",
            "Requirement already satisfied: six in /usr/local/lib/python3.7/dist-packages (from cycler>=0.10->matplotlib>=2.1.0->pycocotools) (1.15.0)\n"
          ],
          "name": "stdout"
        }
      ]
    },
    {
      "cell_type": "code",
      "metadata": {
        "id": "N2YxNg_6ftEC",
        "colab": {
          "base_uri": "https://localhost:8080/"
        },
        "outputId": "2b7ffcfe-b9d7-4cee-9258-c19c0d3902fb"
      },
      "source": [
        "#fixed version of tqdm output for Colab\n",
        "!pip install --force https://github.com/chengs/tqdm/archive/colab.zip\n",
        "#IGNORE restart runtime warning, it is indeed installed\n",
        "#missing a few extra packages that we will need later! \n",
        "!pip install efficientnet_pytorch\n",
        "!pip install tensorboardX"
      ],
      "execution_count": null,
      "outputs": [
        {
          "output_type": "stream",
          "text": [
            "Collecting https://github.com/chengs/tqdm/archive/colab.zip\n",
            "\u001b[?25l  Downloading https://github.com/chengs/tqdm/archive/colab.zip\n",
            "\u001b[K     | 194kB 11.9MB/s\n",
            "\u001b[?25hBuilding wheels for collected packages: tqdm\n",
            "  Building wheel for tqdm (setup.py) ... \u001b[?25l\u001b[?25hdone\n",
            "  Created wheel for tqdm: filename=tqdm-4.28.1-py2.py3-none-any.whl size=47868 sha256=75e37be14bea18fee32b2d0b21abadf1b9eb308c1df37cb4d6145f85ce888197\n",
            "  Stored in directory: /tmp/pip-ephem-wheel-cache-quwinltp/wheels/41/18/ee/d5dd158441b27965855b1bbae03fa2d8a91fe645c01b419896\n",
            "Successfully built tqdm\n",
            "\u001b[31mERROR: spacy 2.2.4 has requirement tqdm<5.0.0,>=4.38.0, but you'll have tqdm 4.28.1 which is incompatible.\u001b[0m\n",
            "\u001b[31mERROR: fbprophet 0.7.1 has requirement tqdm>=4.36.1, but you'll have tqdm 4.28.1 which is incompatible.\u001b[0m\n",
            "Installing collected packages: tqdm\n",
            "  Found existing installation: tqdm 4.41.1\n",
            "    Uninstalling tqdm-4.41.1:\n",
            "      Successfully uninstalled tqdm-4.41.1\n",
            "Successfully installed tqdm-4.28.1\n",
            "Collecting efficientnet_pytorch\n",
            "  Downloading https://files.pythonhosted.org/packages/4e/83/f9c5f44060f996279e474185ebcbd8dbd91179593bffb9abe3afa55d085b/efficientnet_pytorch-0.7.0.tar.gz\n",
            "Requirement already satisfied: torch in /usr/local/lib/python3.7/dist-packages (from efficientnet_pytorch) (1.8.1+cu101)\n",
            "Requirement already satisfied: numpy in /usr/local/lib/python3.7/dist-packages (from torch->efficientnet_pytorch) (1.19.5)\n",
            "Requirement already satisfied: typing-extensions in /usr/local/lib/python3.7/dist-packages (from torch->efficientnet_pytorch) (3.7.4.3)\n",
            "Building wheels for collected packages: efficientnet-pytorch\n",
            "  Building wheel for efficientnet-pytorch (setup.py) ... \u001b[?25l\u001b[?25hdone\n",
            "  Created wheel for efficientnet-pytorch: filename=efficientnet_pytorch-0.7.0-cp37-none-any.whl size=16031 sha256=06c1cad36d216e2aef022182b5a81f019f43c3c514d7e3d2641cdc4478dcaa86\n",
            "  Stored in directory: /root/.cache/pip/wheels/e9/c6/e1/7a808b26406239712cfce4b5ceeb67d9513ae32aa4b31445c6\n",
            "Successfully built efficientnet-pytorch\n",
            "Installing collected packages: efficientnet-pytorch\n",
            "Successfully installed efficientnet-pytorch-0.7.0\n",
            "Collecting tensorboardX\n",
            "\u001b[?25l  Downloading https://files.pythonhosted.org/packages/af/0c/4f41bcd45db376e6fe5c619c01100e9b7531c55791b7244815bac6eac32c/tensorboardX-2.1-py2.py3-none-any.whl (308kB)\n",
            "\u001b[K     |████████████████████████████████| 317kB 18.1MB/s \n",
            "\u001b[?25hRequirement already satisfied: numpy in /usr/local/lib/python3.7/dist-packages (from tensorboardX) (1.19.5)\n",
            "Requirement already satisfied: six in /usr/local/lib/python3.7/dist-packages (from tensorboardX) (1.15.0)\n",
            "Requirement already satisfied: protobuf>=3.8.0 in /usr/local/lib/python3.7/dist-packages (from tensorboardX) (3.12.4)\n",
            "Requirement already satisfied: setuptools in /usr/local/lib/python3.7/dist-packages (from protobuf>=3.8.0->tensorboardX) (54.2.0)\n",
            "Installing collected packages: tensorboardX\n",
            "Successfully installed tensorboardX-2.1\n"
          ],
          "name": "stdout"
        }
      ]
    },
    {
      "cell_type": "markdown",
      "metadata": {
        "id": "8PdgWcjbc0hj"
      },
      "source": [
        "# Let's get some data! \n",
        "\n",
        "The best part about Roboflow is the efficient management of your datasets. [Upload you dataset](roboflow.ai) and you will recieve a fresh curl code to ouput it in whatever augmented and annotated format you need. "
      ]
    },
    {
      "cell_type": "code",
      "metadata": {
        "id": "QK73cnbNcMey",
        "colab": {
          "base_uri": "https://localhost:8080/"
        },
        "outputId": "f4461094-364f-46f8-a250-b9340e9f4bae"
      },
      "source": [
        "#fresh curl courtesy of roboflow.ai, outputing our dataset in Coco Json format\n",
        "\n",
        "!curl -L \"https://app.roboflow.com/ds/jW9J71PMbE?key=yTYDbsPifd\" > roboflow.zip; unzip roboflow.zip; rm roboflow.zip\n"
      ],
      "execution_count": null,
      "outputs": [
        {
          "output_type": "stream",
          "text": [
            "  % Total    % Received % Xferd  Average Speed   Time    Time     Time  Current\n",
            "                                 Dload  Upload   Total   Spent    Left  Speed\n",
            "100   887  100   887    0     0   1451      0 --:--:-- --:--:-- --:--:--  1451\n",
            "100 3499k  100 3499k    0     0  4045k      0 --:--:-- --:--:-- --:--:-- 4045k\n",
            "Archive:  roboflow.zip\n",
            " extracting: README.roboflow.txt     \n",
            " extracting: test/16_3735_jpg.rf.e3d8048a729d9f9935722e99a2e9056d.jpg  \n",
            " extracting: test/20_1470_jpg.rf.0d12097e11f6e184b6cd5161589ae7d4.jpg  \n",
            " extracting: test/20_360_jpg.rf.5bb8d504d214d9f6e6f5c23d92cd0eae.jpg  \n",
            " extracting: test/23_00526_jpg.rf.2473b2f9d16830a266d67184e7fbe1b9.jpg  \n",
            " extracting: test/25_00305_jpg.rf.6a575126d99723308ff8f8e5d40d878b.jpg  \n",
            " extracting: test/25_00475_jpg.rf.7472c5ecd7632624f0af5dedc659c5e6.jpg  \n",
            " extracting: test/25_00516_jpg.rf.aaaf64aeb5bec973b7fe934aa76acd88.jpg  \n",
            " extracting: test/28_1035_jpg.rf.53e9b776585e988f29a83d6f96b0d96f.jpg  \n",
            " extracting: test/29_00167_jpg.rf.9f3299701b2d7e1723fbb202b67fd9f0.jpg  \n",
            " extracting: test/29_00287_jpg.rf.01bd3d8546d06986c2214e1fdff49644.jpg  \n",
            " extracting: test/34_2295_jpg.rf.dab58c5ecb94507c97e355e27cb766e6.jpg  \n",
            " extracting: test/_annotations.coco.json  \n",
            "   creating: train/\n",
            " extracting: train/04_3420_jpg.rf.a1cd19a685656d858dbb0f0383f035f2.jpg  \n",
            " extracting: train/04_585_jpg.rf.69f46a897dcb1ef3ff15a7c9f7b8d68e.jpg  \n",
            " extracting: train/07_1035_jpg.rf.9645cbf2da2ab351ec8e2886e8abd158.jpg  \n",
            " extracting: train/08_1725_jpg.rf.f5313f2501ad2bd699b54cf33929aa8d.jpg  \n",
            " extracting: train/08_1830_jpg.rf.fbefed18822c831ce8229bd4cc765cf1.jpg  \n",
            " extracting: train/08_1890_jpg.rf.08503c52ba9d8678bba100332f0d3d9f.jpg  \n",
            " extracting: train/09_9180_jpg.rf.72709cfff48f423af2f28e8d930c24e2.jpg  \n",
            " extracting: train/11_5820_jpg.rf.1aefb9cf988534dc1ff2f5a8274d8da1.jpg  \n",
            " extracting: train/13_00146_jpg.rf.541632c21819c426c976fd08891db5b9.jpg  \n",
            " extracting: train/13_00270_jpg.rf.3b2b4aa276604e5bc2881ca5ac981dd0.jpg  \n",
            " extracting: train/14_00121_jpg.rf.86d6dbe7591621a90fda72e02b0fc6d6.jpg  \n",
            " extracting: train/14_02226_jpg.rf.3e1a9b6fdcbd42dd79ddaa33b5795ae8.jpg  \n",
            " extracting: train/16_3435_jpg.rf.01592d83bc8b7c484de0fce42b0ee593.jpg  \n",
            " extracting: train/16_3450_jpg.rf.6e420a984f97a05f78bf18e75911858e.jpg  \n",
            " extracting: train/16_3465_jpg.rf.52140e84e3c28b952c27b2b78360fdca.jpg  \n",
            " extracting: train/16_3660_jpg.rf.f763624af8be6a11705993b112463973.jpg  \n",
            " extracting: train/16_3675_jpg.rf.9d4decf64d0a4e1b3ff9269dfe1b1887.jpg  \n",
            " extracting: train/16_3705_jpg.rf.1eb874b162c64b8a37efec0db0b946a1.jpg  \n",
            " extracting: train/16_3720_jpg.rf.b0cdbfeb81fb598ee4f16b4ff7d9fa75.jpg  \n",
            " extracting: train/18_00455_jpg.rf.42b37f029db537e09978b85efb3dfc38.jpg  \n",
            " extracting: train/19_00137_jpg.rf.c340010b82c1744a49d21c86f03878a7.jpg  \n",
            " extracting: train/19_00350_jpg.rf.f4347268bae9ec50074596c38da5e297.jpg  \n",
            " extracting: train/19_00413_jpg.rf.365d76856b6620cfcbaefb173e757b81.jpg  \n",
            " extracting: train/19_00563_jpg.rf.46da36212e818c3e08ae381139e8f8ee.jpg  \n",
            " extracting: train/19_00764_jpg.rf.00d17504560ce8141a260328b28f18a3.jpg  \n",
            " extracting: train/19_00934_jpg.rf.b198ca18f52f8a749ca7f8fa9f7a91f7.jpg  \n",
            " extracting: train/22_00117_jpg.rf.21fd7a8c4f4bfa178c336e0622a58897.jpg  \n",
            " extracting: train/22_00127_jpg.rf.a6d7342fc97d7a1307aa08524da503e9.jpg  \n",
            " extracting: train/22_00208_jpg.rf.4c8695f5cde6067ddc7b0e9838d73fc2.jpg  \n",
            " extracting: train/22_00470_jpg.rf.2a2f46b3aae9d1730085704ad0cf43c7.jpg  \n",
            " extracting: train/22_00495_jpg.rf.f373d74c38647f0cf67d5ab08e475a45.jpg  \n",
            " extracting: train/22_00623_jpg.rf.e3a952f66b55829f865f9d7a005c3b1e.jpg  \n",
            " extracting: train/22_00631_jpg.rf.eb186d512bb53730abc0418e81df189e.jpg  \n",
            " extracting: train/22_01091_jpg.rf.121696ad9fbae58b6e68a36886736238.jpg  \n",
            " extracting: train/22_01901_jpg.rf.d1e5087f719869501429e48ae1bcf3e0.jpg  \n",
            " extracting: train/23_00596_jpg.rf.2b6280f2179e01ac30b205ed831c3a27.jpg  \n",
            " extracting: train/23_00846_jpg.rf.aa38dfa9df2ad5647453145c5ce8eb7d.jpg  \n",
            " extracting: train/23_00961_jpg.rf.ad3438172d36752585878d0d2208300d.jpg  \n",
            " extracting: train/23_01021_jpg.rf.ce5459fd4da4f48160d65bd8f2b22328.jpg  \n",
            " extracting: train/23_01141_jpg.rf.f6e1698e876588d5d977d5b88eac93b9.jpg  \n",
            " extracting: train/23_01731_jpg.rf.2a50849a9cc3a01ca8d9e058cd0b92b4.jpg  \n",
            " extracting: train/23_01821_jpg.rf.e9216e37de86c19ebbbb1d3424da3f71.jpg  \n",
            " extracting: train/25_00067_jpg.rf.63d7315799d08c6f4af8645073288dcd.jpg  \n",
            " extracting: train/25_00356_jpg.rf.903c9f22f5a7178d2e1f26104d73c194.jpg  \n",
            " extracting: train/25_00386_jpg.rf.3a567521f1d54a5379fe08b9df372aeb.jpg  \n",
            " extracting: train/25_00481_jpg.rf.0601cd64296aaca9d5182270782a9bf4.jpg  \n",
            " extracting: train/26_00001_jpg.rf.22913049c1b527b7db91ee1317775df0.jpg  \n",
            " extracting: train/26_00105_jpg.rf.7219e0ed853969718a56ca4e7bc55b02.jpg  \n",
            " extracting: train/26_105_jpg.rf.649ebe448cd787c9844c14dd088f80c8.jpg  \n",
            " extracting: train/26_75_jpg.rf.20fde66c2b31fa58329e388da892cc68.jpg  \n",
            " extracting: train/26_855_jpg.rf.9bc12aaeb6b3512f8f787ba4285b9d8e.jpg  \n",
            " extracting: train/27_00394_jpg.rf.028d01968154610b061e83e10b064194.jpg  \n",
            " extracting: train/27_00427_jpg.rf.2d2aa5a2e6fc5f514238bb8ff125774f.jpg  \n",
            " extracting: train/27_00740_jpg.rf.e03425f9f656ba268b1bd512e4b7a3be.jpg  \n",
            " extracting: train/27_00907_jpg.rf.38df7cab3f06b51a3cdaaf2dbc30f14a.jpg  \n",
            " extracting: train/27_00935_jpg.rf.ce7009cc092203d0550efe1d2a85689f.jpg  \n",
            " extracting: train/27_00941_jpg.rf.9a5a0e2480ed6390360a39978390566e.jpg  \n",
            " extracting: train/27_01456_jpg.rf.5b64611469a77b92e48a070491c22d37.jpg  \n",
            " extracting: train/27_02111_jpg.rf.4f73122b5cb35f77f02ea8caff3c3fa5.jpg  \n",
            " extracting: train/28_00001_jpg.rf.ea3e72706a1cb9033f69fd4d926d1c22.jpg  \n",
            " extracting: train/28_00076_jpg.rf.712b1fc18f60f67461d2c0debccb053b.jpg  \n",
            " extracting: train/28_1065_jpg.rf.eb01649a1afb226bf2342396a45f86fb.jpg  \n",
            " extracting: train/29_00262_jpg.rf.78fae07388ae7113443c6dd7907d8312.jpg  \n",
            " extracting: train/31_4110_jpg.rf.7b0c24a86df7badc9fd7e99df4ce2b58.jpg  \n",
            " extracting: train/31_7725_jpg.rf.78d609ba076c1a28606ffaae98de870e.jpg  \n",
            " extracting: train/31_7785_jpg.rf.160a468ae9af676ff4fd8e99a63f5625.jpg  \n",
            " extracting: train/32_4575_jpg.rf.66f947baf9120faf7ec7d2033548b642.jpg  \n",
            " extracting: train/33_6675_jpg.rf.7518cb9c5d25ffcdc25dbbed1eb9b7e8.jpg  \n",
            " extracting: train/33_8100_jpg.rf.feaff52344523a236c2f3194098bb4d6.jpg  \n",
            " extracting: train/34_0_jpg.rf.d40b8034fd09ea0594a563278b4e83c3.jpg  \n",
            " extracting: train/34_1005_jpg.rf.eda8b6c572842b7a17f7d63f65db286d.jpg  \n",
            " extracting: train/34_1140_jpg.rf.c62f8d42eae673ef3fdc3740fa780241.jpg  \n",
            " extracting: train/34_2280_jpg.rf.42ae432294e40f7a5c9182a55c854862.jpg  \n",
            " extracting: train/34_2310_jpg.rf.38a8ee11fdc32d512027b32f06070fac.jpg  \n",
            " extracting: train/34_2325_jpg.rf.30da805d7a9a31e6b86739bf398269f7.jpg  \n",
            " extracting: train/34_990_jpg.rf.ca1f3aa7a485b3f3ba5815681c63ec26.jpg  \n",
            " extracting: train/36_1215_jpg.rf.da794082154d6c893d1ed8975c76c0e4.jpg  \n",
            " extracting: train/36_2010_jpg.rf.1f00eb894ba0c2325712f50c562de84f.jpg  \n",
            " extracting: train/36_825_jpg.rf.31a99dc6deb8105ca4224eaa2942ea63.jpg  \n",
            " extracting: train/_annotations.coco.json  \n",
            "   creating: valid/\n",
            " extracting: valid/11_00090_jpg.rf.22e83e21041e419c01ef8520f051230f.jpg  \n",
            " extracting: valid/16_3645_jpg.rf.598b597e32e9be3037c980f0ecc311c0.jpg  \n",
            " extracting: valid/22_00331_jpg.rf.ef9085aed5c067da9a73386cf1893b6e.jpg  \n",
            " extracting: valid/26_00083_jpg.rf.71466f4d9ec27eea574632d0a8f846ff.jpg  \n",
            " extracting: valid/27_00375_jpg.rf.87c8c15ab00545c2e906e34c5d9ee860.jpg  \n",
            " extracting: valid/29_00268_jpg.rf.f930be6cb1dedddb7ce60dce6a79385d.jpg  \n",
            " extracting: valid/31_7740_jpg.rf.d6c288dafa46d3dcc7338f8048873da7.jpg  \n",
            " extracting: valid/36_2190_jpg.rf.40712f959246d54ae6b7b10f97d1e5ac.jpg  \n",
            " extracting: valid/36_780_jpg.rf.0c7aa42d04fa36170c8056fa7b071e63.jpg  \n",
            " extracting: valid/_annotations.coco.json  \n"
          ],
          "name": "stdout"
        }
      ]
    },
    {
      "cell_type": "code",
      "metadata": {
        "id": "nspgbsjTdSjZ",
        "colab": {
          "base_uri": "https://localhost:8080/"
        },
        "outputId": "3ea29a13-b81f-40b5-cce2-da90b81c1df6"
      },
      "source": [
        "#let's take a look at our directory\n",
        "#notice the data came down in train, valid, test, splits - this is pre set during the dataset upload process\n",
        "%ls"
      ],
      "execution_count": null,
      "outputs": [
        {
          "output_type": "stream",
          "text": [
            "\u001b[0m\u001b[01;34mMonk_Object_Detection\u001b[0m/  \u001b[01;34msample_data\u001b[0m/  \u001b[01;34mtrain\u001b[0m/\n",
            "README.roboflow.txt     \u001b[01;34mtest\u001b[0m/         \u001b[01;34mvalid\u001b[0m/\n"
          ],
          "name": "stdout"
        }
      ]
    },
    {
      "cell_type": "code",
      "metadata": {
        "id": "4tZCaH-bdUnP",
        "colab": {
          "base_uri": "https://localhost:8080/"
        },
        "outputId": "7a0ee8dc-4248-4a2b-ac94-e3a2a4e27cac"
      },
      "source": [
        "#let's take a peak in train\n",
        "#jpg images and some coco json annotations\n",
        "%ls train"
      ],
      "execution_count": null,
      "outputs": [
        {
          "output_type": "stream",
          "text": [
            "04_3420_jpg.rf.a1cd19a685656d858dbb0f0383f035f2.jpg\n",
            "04_585_jpg.rf.69f46a897dcb1ef3ff15a7c9f7b8d68e.jpg\n",
            "07_1035_jpg.rf.9645cbf2da2ab351ec8e2886e8abd158.jpg\n",
            "08_1725_jpg.rf.f5313f2501ad2bd699b54cf33929aa8d.jpg\n",
            "08_1830_jpg.rf.fbefed18822c831ce8229bd4cc765cf1.jpg\n",
            "08_1890_jpg.rf.08503c52ba9d8678bba100332f0d3d9f.jpg\n",
            "09_9180_jpg.rf.72709cfff48f423af2f28e8d930c24e2.jpg\n",
            "11_5820_jpg.rf.1aefb9cf988534dc1ff2f5a8274d8da1.jpg\n",
            "13_00146_jpg.rf.541632c21819c426c976fd08891db5b9.jpg\n",
            "13_00270_jpg.rf.3b2b4aa276604e5bc2881ca5ac981dd0.jpg\n",
            "14_00121_jpg.rf.86d6dbe7591621a90fda72e02b0fc6d6.jpg\n",
            "14_02226_jpg.rf.3e1a9b6fdcbd42dd79ddaa33b5795ae8.jpg\n",
            "16_3435_jpg.rf.01592d83bc8b7c484de0fce42b0ee593.jpg\n",
            "16_3450_jpg.rf.6e420a984f97a05f78bf18e75911858e.jpg\n",
            "16_3465_jpg.rf.52140e84e3c28b952c27b2b78360fdca.jpg\n",
            "16_3660_jpg.rf.f763624af8be6a11705993b112463973.jpg\n",
            "16_3675_jpg.rf.9d4decf64d0a4e1b3ff9269dfe1b1887.jpg\n",
            "16_3705_jpg.rf.1eb874b162c64b8a37efec0db0b946a1.jpg\n",
            "16_3720_jpg.rf.b0cdbfeb81fb598ee4f16b4ff7d9fa75.jpg\n",
            "18_00455_jpg.rf.42b37f029db537e09978b85efb3dfc38.jpg\n",
            "19_00137_jpg.rf.c340010b82c1744a49d21c86f03878a7.jpg\n",
            "19_00350_jpg.rf.f4347268bae9ec50074596c38da5e297.jpg\n",
            "19_00413_jpg.rf.365d76856b6620cfcbaefb173e757b81.jpg\n",
            "19_00563_jpg.rf.46da36212e818c3e08ae381139e8f8ee.jpg\n",
            "19_00764_jpg.rf.00d17504560ce8141a260328b28f18a3.jpg\n",
            "19_00934_jpg.rf.b198ca18f52f8a749ca7f8fa9f7a91f7.jpg\n",
            "22_00117_jpg.rf.21fd7a8c4f4bfa178c336e0622a58897.jpg\n",
            "22_00127_jpg.rf.a6d7342fc97d7a1307aa08524da503e9.jpg\n",
            "22_00208_jpg.rf.4c8695f5cde6067ddc7b0e9838d73fc2.jpg\n",
            "22_00470_jpg.rf.2a2f46b3aae9d1730085704ad0cf43c7.jpg\n",
            "22_00495_jpg.rf.f373d74c38647f0cf67d5ab08e475a45.jpg\n",
            "22_00623_jpg.rf.e3a952f66b55829f865f9d7a005c3b1e.jpg\n",
            "22_00631_jpg.rf.eb186d512bb53730abc0418e81df189e.jpg\n",
            "22_01091_jpg.rf.121696ad9fbae58b6e68a36886736238.jpg\n",
            "22_01901_jpg.rf.d1e5087f719869501429e48ae1bcf3e0.jpg\n",
            "23_00596_jpg.rf.2b6280f2179e01ac30b205ed831c3a27.jpg\n",
            "23_00846_jpg.rf.aa38dfa9df2ad5647453145c5ce8eb7d.jpg\n",
            "23_00961_jpg.rf.ad3438172d36752585878d0d2208300d.jpg\n",
            "23_01021_jpg.rf.ce5459fd4da4f48160d65bd8f2b22328.jpg\n",
            "23_01141_jpg.rf.f6e1698e876588d5d977d5b88eac93b9.jpg\n",
            "23_01731_jpg.rf.2a50849a9cc3a01ca8d9e058cd0b92b4.jpg\n",
            "23_01821_jpg.rf.e9216e37de86c19ebbbb1d3424da3f71.jpg\n",
            "25_00067_jpg.rf.63d7315799d08c6f4af8645073288dcd.jpg\n",
            "25_00356_jpg.rf.903c9f22f5a7178d2e1f26104d73c194.jpg\n",
            "25_00386_jpg.rf.3a567521f1d54a5379fe08b9df372aeb.jpg\n",
            "25_00481_jpg.rf.0601cd64296aaca9d5182270782a9bf4.jpg\n",
            "26_00001_jpg.rf.22913049c1b527b7db91ee1317775df0.jpg\n",
            "26_00105_jpg.rf.7219e0ed853969718a56ca4e7bc55b02.jpg\n",
            "26_105_jpg.rf.649ebe448cd787c9844c14dd088f80c8.jpg\n",
            "26_75_jpg.rf.20fde66c2b31fa58329e388da892cc68.jpg\n",
            "26_855_jpg.rf.9bc12aaeb6b3512f8f787ba4285b9d8e.jpg\n",
            "27_00394_jpg.rf.028d01968154610b061e83e10b064194.jpg\n",
            "27_00427_jpg.rf.2d2aa5a2e6fc5f514238bb8ff125774f.jpg\n",
            "27_00740_jpg.rf.e03425f9f656ba268b1bd512e4b7a3be.jpg\n",
            "27_00907_jpg.rf.38df7cab3f06b51a3cdaaf2dbc30f14a.jpg\n",
            "27_00935_jpg.rf.ce7009cc092203d0550efe1d2a85689f.jpg\n",
            "27_00941_jpg.rf.9a5a0e2480ed6390360a39978390566e.jpg\n",
            "27_01456_jpg.rf.5b64611469a77b92e48a070491c22d37.jpg\n",
            "27_02111_jpg.rf.4f73122b5cb35f77f02ea8caff3c3fa5.jpg\n",
            "28_00001_jpg.rf.ea3e72706a1cb9033f69fd4d926d1c22.jpg\n",
            "28_00076_jpg.rf.712b1fc18f60f67461d2c0debccb053b.jpg\n",
            "28_1065_jpg.rf.eb01649a1afb226bf2342396a45f86fb.jpg\n",
            "29_00262_jpg.rf.78fae07388ae7113443c6dd7907d8312.jpg\n",
            "31_4110_jpg.rf.7b0c24a86df7badc9fd7e99df4ce2b58.jpg\n",
            "31_7725_jpg.rf.78d609ba076c1a28606ffaae98de870e.jpg\n",
            "31_7785_jpg.rf.160a468ae9af676ff4fd8e99a63f5625.jpg\n",
            "32_4575_jpg.rf.66f947baf9120faf7ec7d2033548b642.jpg\n",
            "33_6675_jpg.rf.7518cb9c5d25ffcdc25dbbed1eb9b7e8.jpg\n",
            "33_8100_jpg.rf.feaff52344523a236c2f3194098bb4d6.jpg\n",
            "34_0_jpg.rf.d40b8034fd09ea0594a563278b4e83c3.jpg\n",
            "34_1005_jpg.rf.eda8b6c572842b7a17f7d63f65db286d.jpg\n",
            "34_1140_jpg.rf.c62f8d42eae673ef3fdc3740fa780241.jpg\n",
            "34_2280_jpg.rf.42ae432294e40f7a5c9182a55c854862.jpg\n",
            "34_2310_jpg.rf.38a8ee11fdc32d512027b32f06070fac.jpg\n",
            "34_2325_jpg.rf.30da805d7a9a31e6b86739bf398269f7.jpg\n",
            "34_990_jpg.rf.ca1f3aa7a485b3f3ba5815681c63ec26.jpg\n",
            "36_1215_jpg.rf.da794082154d6c893d1ed8975c76c0e4.jpg\n",
            "36_2010_jpg.rf.1f00eb894ba0c2325712f50c562de84f.jpg\n",
            "36_825_jpg.rf.31a99dc6deb8105ca4224eaa2942ea63.jpg\n",
            "_annotations.coco.json\n"
          ],
          "name": "stdout"
        }
      ]
    },
    {
      "cell_type": "code",
      "metadata": {
        "id": "5DtDu-7Hlk_O"
      },
      "source": [
        "#in the next three cells, we move the data into a structure that the image detection library will be expecting\n",
        "#but no file data manipulation is necessary\n",
        "#images can also be segmented into class folders, but we combine all classes here\n",
        "!mkdir rohit\n",
        "!mkdir rohit/annotations\n",
        "!mkdir rohit/Annotations\n",
        "!mkdir rohit/Images"
      ],
      "execution_count": null,
      "outputs": []
    },
    {
      "cell_type": "code",
      "metadata": {
        "id": "3uZzGiw_mrRI"
      },
      "source": [
        "%cp train/_annotations.coco.json rohit/annotations/instances_Images.json"
      ],
      "execution_count": null,
      "outputs": []
    },
    {
      "cell_type": "code",
      "metadata": {
        "id": "NLzZXkkhrvx4"
      },
      "source": [
        "%cp train/*.jpg rohit/Images/"
      ],
      "execution_count": null,
      "outputs": []
    },
    {
      "cell_type": "markdown",
      "metadata": {
        "id": "wBi3RS1_fd4N"
      },
      "source": [
        "# Training\n",
        "\n",
        "In this section we set up the efficientDet-d0 model from backbone and train to our custom case"
      ]
    },
    {
      "cell_type": "code",
      "metadata": {
        "id": "Fvfo6x7Vdw6i"
      },
      "source": [
        "import os\n",
        "import sys\n",
        "sys.path.append(\"Monk_Object_Detection/4_efficientdet/lib/\");"
      ],
      "execution_count": null,
      "outputs": []
    },
    {
      "cell_type": "code",
      "metadata": {
        "id": "21o9flNqfP-8"
      },
      "source": [
        "from train_detector import Detector"
      ],
      "execution_count": null,
      "outputs": []
    },
    {
      "cell_type": "code",
      "metadata": {
        "id": "c35tC0dCfoky"
      },
      "source": [
        "gtf = Detector();"
      ],
      "execution_count": null,
      "outputs": []
    },
    {
      "cell_type": "code",
      "metadata": {
        "id": "aYKeGqpqgvN4"
      },
      "source": [
        "#directs the model towards file structure\n",
        "root_dir = \"./\";\n",
        "coco_dir = \"rohit\";\n",
        "img_dir = \"./\";\n",
        "set_dir = \"Images\";"
      ],
      "execution_count": null,
      "outputs": []
    },
    {
      "cell_type": "code",
      "metadata": {
        "id": "T6epk9-HkBwJ",
        "colab": {
          "base_uri": "https://localhost:8080/"
        },
        "outputId": "535d0ff7-56e7-4cad-f7c9-4bee13236ab1"
      },
      "source": [
        "#smells like some free compute from Colab, nice\n",
        "gtf.Train_Dataset(root_dir, coco_dir, img_dir, set_dir, batch_size=8, image_size=416, use_gpu=True)"
      ],
      "execution_count": null,
      "outputs": [
        {
          "output_type": "stream",
          "text": [
            "loading annotations into memory...\n",
            "Done (t=0.00s)\n",
            "creating index...\n",
            "index created!\n"
          ],
          "name": "stdout"
        },
        {
          "output_type": "stream",
          "text": [
            "/usr/local/lib/python3.7/dist-packages/torch/utils/data/dataloader.py:477: UserWarning: This DataLoader will create 3 worker processes in total. Our suggested max number of worker in current system is 2, which is smaller than what this DataLoader is going to create. Please be aware that excessive worker creation might get DataLoader running slow or even freeze, lower the worker number to avoid potential slowness/freeze if necessary.\n",
            "  cpuset_checked))\n"
          ],
          "name": "stderr"
        }
      ]
    },
    {
      "cell_type": "code",
      "metadata": {
        "id": "O0-xLOmisU9P",
        "colab": {
          "base_uri": "https://localhost:8080/",
          "height": 106
        },
        "outputId": "bd4b9777-9198-46ee-e497-bc6adcd8e0f5"
      },
      "source": [
        "gtf.Model();"
      ],
      "execution_count": null,
      "outputs": [
        {
          "output_type": "stream",
          "text": [
            "Downloading: \"https://github.com/lukemelas/EfficientNet-PyTorch/releases/download/1.0/efficientnet-b0-355c32eb.pth\" to /root/.cache/torch/hub/checkpoints/efficientnet-b0-355c32eb.pth\n"
          ],
          "name": "stderr"
        },
        {
          "output_type": "display_data",
          "data": {
            "text/html": [
              "<div style=\"display:flex;flex-direction:row;\"><span></span><progress style='margin:2px 4px;' max='21388428' value='21388428'></progress>100% 20.4M/20.4M [00:00&lt;00:00, 184MB/s]</div>"
            ],
            "text/plain": [
              "<tqdm._fake_ipywidgets.HBox object>"
            ]
          },
          "metadata": {
            "tags": []
          }
        },
        {
          "output_type": "stream",
          "text": [
            "\n",
            "Loaded pretrained weights for efficientnet-b0\n"
          ],
          "name": "stdout"
        }
      ]
    },
    {
      "cell_type": "code",
      "metadata": {
        "id": "y3XsPHdxsXsH"
      },
      "source": [
        "gtf.Set_Hyperparams(lr=0.0001, val_interval=1, es_min_delta=0.0, es_patience=0)"
      ],
      "execution_count": null,
      "outputs": []
    },
    {
      "cell_type": "code",
      "metadata": {
        "id": "d7vtQ28fsc9K",
        "colab": {
          "base_uri": "https://localhost:8080/",
          "height": 1000
        },
        "outputId": "a0e44c6d-9564-4feb-e9ff-fd890633f1c9"
      },
      "source": [
        "%%time\n",
        "gtf.Train(num_epochs=200, model_output_dir=\"trained/\");"
      ],
      "execution_count": null,
      "outputs": [
        {
          "output_type": "display_data",
          "data": {
            "text/html": [
              "<div style=\"display:flex;flex-direction:row;\"><span>Epoch: 1/200. Iteration: 9/9. Cls loss: 0.81205. Reg loss: 0.85483. Batch loss: 1.66687 Total loss: 1.95428</span><progress style='margin:2px 4px;description_width:initial;' max='9' value='9'></progress>100% 9/9 [00:16&lt;00:00,  1.80s/it]</div>"
            ],
            "text/plain": [
              "<tqdm._fake_ipywidgets.HBox object>"
            ]
          },
          "metadata": {
            "tags": []
          }
        },
        {
          "output_type": "stream",
          "text": [
            "/usr/local/lib/python3.7/dist-packages/torch/utils/data/dataloader.py:477: UserWarning: This DataLoader will create 3 worker processes in total. Our suggested max number of worker in current system is 2, which is smaller than what this DataLoader is going to create. Please be aware that excessive worker creation might get DataLoader running slow or even freeze, lower the worker number to avoid potential slowness/freeze if necessary.\n",
            "  cpuset_checked))\n",
            "Monk_Object_Detection/4_efficientdet/lib/src/utils.py:84: TracerWarning: Converting a tensor to a Python integer might cause the trace to be incorrect. We can't record the data flow of Python values, so this value will be treated as a constant in the future. This means that the trace might not generalize to other inputs!\n",
            "  image_shape = np.array(image_shape)\n",
            "Monk_Object_Detection/4_efficientdet/lib/src/utils.py:96: TracerWarning: torch.from_numpy results are registered as constants in the trace. You can safely ignore this warning if you use this function to create tensors out of constant variables that would be the same every time you call this function. In any other case, this might cause the trace to be incorrect.\n",
            "  anchors = torch.from_numpy(all_anchors.astype(np.float32))\n",
            "Monk_Object_Detection/4_efficientdet/lib/src/model.py:282: TracerWarning: Converting a tensor to a Python boolean might cause the trace to be incorrect. We can't record the data flow of Python values, so this value will be treated as a constant in the future. This means that the trace might not generalize to other inputs!\n",
            "  if scores_over_thresh.sum() == 0:\n"
          ],
          "name": "stderr"
        },
        {
          "output_type": "display_data",
          "data": {
            "text/html": [
              "<div style=\"display:flex;flex-direction:row;\"><span>Epoch: 2/200. Iteration: 9/9. Cls loss: 0.94095. Reg loss: 1.01747. Batch loss: 1.95843 Total loss: 1.86039</span><progress style='margin:2px 4px;description_width:initial;' max='9' value='9'></progress>100% 9/9 [00:16&lt;00:00,  1.80s/it]</div>"
            ],
            "text/plain": [
              "<tqdm._fake_ipywidgets.HBox object>"
            ]
          },
          "metadata": {
            "tags": []
          }
        },
        {
          "output_type": "stream",
          "text": [
            "/usr/local/lib/python3.7/dist-packages/torch/onnx/symbolic_opset9.py:2578: UserWarning: Exporting aten::index operator with indices of type Byte. Only 1-D indices are supported. In any other case, this will produce an incorrect ONNX graph.\n",
            "  warnings.warn(\"Exporting aten::index operator with indices of type Byte. \"\n",
            "/usr/local/lib/python3.7/dist-packages/torch/onnx/symbolic_opset9.py:662: UserWarning: This model contains a squeeze operation on dimension 1. If the model is intended to be used with dynamic input shapes, please use opset version 11 to export the model.\n",
            "  \"intended to be used with dynamic input shapes, please use opset version 11 to export the model.\")\n"
          ],
          "name": "stderr"
        },
        {
          "output_type": "display_data",
          "data": {
            "text/html": [
              "<div style=\"display:flex;flex-direction:row;\"><span>Epoch: 3/200. Iteration: 9/9. Cls loss: 0.70625. Reg loss: 0.99886. Batch loss: 1.70511 Total loss: 1.72458</span><progress style='margin:2px 4px;description_width:initial;' max='9' value='9'></progress>100% 9/9 [00:16&lt;00:00,  1.82s/it]</div>"
            ],
            "text/plain": [
              "<tqdm._fake_ipywidgets.HBox object>"
            ]
          },
          "metadata": {
            "tags": []
          }
        },
        {
          "output_type": "display_data",
          "data": {
            "text/html": [
              "<div style=\"display:flex;flex-direction:row;\"><span>Epoch: 4/200. Iteration: 9/9. Cls loss: 0.61762. Reg loss: 0.98396. Batch loss: 1.60159 Total loss: 1.62824</span><progress style='margin:2px 4px;description_width:initial;' max='9' value='9'></progress>100% 9/9 [00:16&lt;00:00,  1.82s/it]</div>"
            ],
            "text/plain": [
              "<tqdm._fake_ipywidgets.HBox object>"
            ]
          },
          "metadata": {
            "tags": []
          }
        },
        {
          "output_type": "display_data",
          "data": {
            "text/html": [
              "<div style=\"display:flex;flex-direction:row;\"><span>Epoch: 5/200. Iteration: 9/9. Cls loss: 0.59742. Reg loss: 0.91869. Batch loss: 1.51610 Total loss: 1.56508</span><progress style='margin:2px 4px;description_width:initial;' max='9' value='9'></progress>100% 9/9 [00:16&lt;00:00,  1.81s/it]</div>"
            ],
            "text/plain": [
              "<tqdm._fake_ipywidgets.HBox object>"
            ]
          },
          "metadata": {
            "tags": []
          }
        },
        {
          "output_type": "display_data",
          "data": {
            "text/html": [
              "<div style=\"display:flex;flex-direction:row;\"><span>Epoch: 6/200. Iteration: 9/9. Cls loss: 0.69220. Reg loss: 0.89189. Batch loss: 1.58409 Total loss: 1.51430</span><progress style='margin:2px 4px;description_width:initial;' max='9' value='9'></progress>100% 9/9 [00:16&lt;00:00,  1.81s/it]</div>"
            ],
            "text/plain": [
              "<tqdm._fake_ipywidgets.HBox object>"
            ]
          },
          "metadata": {
            "tags": []
          }
        },
        {
          "output_type": "display_data",
          "data": {
            "text/html": [
              "<div style=\"display:flex;flex-direction:row;\"><span>Epoch: 7/200. Iteration: 9/9. Cls loss: 0.60902. Reg loss: 0.89684. Batch loss: 1.50586 Total loss: 1.51405</span><progress style='margin:2px 4px;description_width:initial;' max='9' value='9'></progress>100% 9/9 [00:16&lt;00:00,  1.82s/it]</div>"
            ],
            "text/plain": [
              "<tqdm._fake_ipywidgets.HBox object>"
            ]
          },
          "metadata": {
            "tags": []
          }
        },
        {
          "output_type": "display_data",
          "data": {
            "text/html": [
              "<div style=\"display:flex;flex-direction:row;\"><span>Epoch: 8/200. Iteration: 9/9. Cls loss: 0.51723. Reg loss: 0.93089. Batch loss: 1.44813 Total loss: 1.43621</span><progress style='margin:2px 4px;description_width:initial;' max='9' value='9'></progress>100% 9/9 [00:16&lt;00:00,  1.83s/it]</div>"
            ],
            "text/plain": [
              "<tqdm._fake_ipywidgets.HBox object>"
            ]
          },
          "metadata": {
            "tags": []
          }
        },
        {
          "output_type": "display_data",
          "data": {
            "text/html": [
              "<div style=\"display:flex;flex-direction:row;\"><span>Epoch: 9/200. Iteration: 9/9. Cls loss: 0.43133. Reg loss: 0.78769. Batch loss: 1.21902 Total loss: 1.38398</span><progress style='margin:2px 4px;description_width:initial;' max='9' value='9'></progress>100% 9/9 [00:16&lt;00:00,  1.82s/it]</div>"
            ],
            "text/plain": [
              "<tqdm._fake_ipywidgets.HBox object>"
            ]
          },
          "metadata": {
            "tags": []
          }
        },
        {
          "output_type": "display_data",
          "data": {
            "text/html": [
              "<div style=\"display:flex;flex-direction:row;\"><span>Epoch: 10/200. Iteration: 9/9. Cls loss: 0.55153. Reg loss: 0.62047. Batch loss: 1.17200 Total loss: 1.33298</span><progress style='margin:2px 4px;description_width:initial;' max='9' value='9'></progress>100% 9/9 [00:16&lt;00:00,  1.82s/it]</div>"
            ],
            "text/plain": [
              "<tqdm._fake_ipywidgets.HBox object>"
            ]
          },
          "metadata": {
            "tags": []
          }
        },
        {
          "output_type": "display_data",
          "data": {
            "text/html": [
              "<div style=\"display:flex;flex-direction:row;\"><span>Epoch: 11/200. Iteration: 9/9. Cls loss: 0.50854. Reg loss: 0.71630. Batch loss: 1.22484 Total loss: 1.28105</span><progress style='margin:2px 4px;description_width:initial;' max='9' value='9'></progress>100% 9/9 [00:16&lt;00:00,  1.82s/it]</div>"
            ],
            "text/plain": [
              "<tqdm._fake_ipywidgets.HBox object>"
            ]
          },
          "metadata": {
            "tags": []
          }
        },
        {
          "output_type": "display_data",
          "data": {
            "text/html": [
              "<div style=\"display:flex;flex-direction:row;\"><span>Epoch: 12/200. Iteration: 9/9. Cls loss: 0.47221. Reg loss: 0.79212. Batch loss: 1.26433 Total loss: 1.20234</span><progress style='margin:2px 4px;description_width:initial;' max='9' value='9'></progress>100% 9/9 [00:16&lt;00:00,  1.81s/it]</div>"
            ],
            "text/plain": [
              "<tqdm._fake_ipywidgets.HBox object>"
            ]
          },
          "metadata": {
            "tags": []
          }
        },
        {
          "output_type": "display_data",
          "data": {
            "text/html": [
              "<div style=\"display:flex;flex-direction:row;\"><span>Epoch: 13/200. Iteration: 9/9. Cls loss: 0.40235. Reg loss: 0.70987. Batch loss: 1.11222 Total loss: 1.14472</span><progress style='margin:2px 4px;description_width:initial;' max='9' value='9'></progress>100% 9/9 [00:16&lt;00:00,  1.81s/it]</div>"
            ],
            "text/plain": [
              "<tqdm._fake_ipywidgets.HBox object>"
            ]
          },
          "metadata": {
            "tags": []
          }
        },
        {
          "output_type": "display_data",
          "data": {
            "text/html": [
              "<div style=\"display:flex;flex-direction:row;\"><span>Epoch: 14/200. Iteration: 9/9. Cls loss: 0.41556. Reg loss: 0.73255. Batch loss: 1.14811 Total loss: 1.13839</span><progress style='margin:2px 4px;description_width:initial;' max='9' value='9'></progress>100% 9/9 [00:16&lt;00:00,  1.82s/it]</div>"
            ],
            "text/plain": [
              "<tqdm._fake_ipywidgets.HBox object>"
            ]
          },
          "metadata": {
            "tags": []
          }
        },
        {
          "output_type": "display_data",
          "data": {
            "text/html": [
              "<div style=\"display:flex;flex-direction:row;\"><span>Epoch: 15/200. Iteration: 9/9. Cls loss: 0.36486. Reg loss: 0.59236. Batch loss: 0.95722 Total loss: 1.10920</span><progress style='margin:2px 4px;description_width:initial;' max='9' value='9'></progress>100% 9/9 [00:16&lt;00:00,  1.82s/it]</div>"
            ],
            "text/plain": [
              "<tqdm._fake_ipywidgets.HBox object>"
            ]
          },
          "metadata": {
            "tags": []
          }
        },
        {
          "output_type": "display_data",
          "data": {
            "text/html": [
              "<div style=\"display:flex;flex-direction:row;\"><span>Epoch: 16/200. Iteration: 9/9. Cls loss: 0.37392. Reg loss: 0.64212. Batch loss: 1.01604 Total loss: 1.05611</span><progress style='margin:2px 4px;description_width:initial;' max='9' value='9'></progress>100% 9/9 [00:16&lt;00:00,  1.83s/it]</div>"
            ],
            "text/plain": [
              "<tqdm._fake_ipywidgets.HBox object>"
            ]
          },
          "metadata": {
            "tags": []
          }
        },
        {
          "output_type": "display_data",
          "data": {
            "text/html": [
              "<div style=\"display:flex;flex-direction:row;\"><span>Epoch: 17/200. Iteration: 9/9. Cls loss: 0.33815. Reg loss: 0.71346. Batch loss: 1.05161 Total loss: 1.00979</span><progress style='margin:2px 4px;description_width:initial;' max='9' value='9'></progress>100% 9/9 [00:16&lt;00:00,  1.82s/it]</div>"
            ],
            "text/plain": [
              "<tqdm._fake_ipywidgets.HBox object>"
            ]
          },
          "metadata": {
            "tags": []
          }
        },
        {
          "output_type": "display_data",
          "data": {
            "text/html": [
              "<div style=\"display:flex;flex-direction:row;\"><span>Epoch: 18/200. Iteration: 9/9. Cls loss: 0.42688. Reg loss: 0.71323. Batch loss: 1.14011 Total loss: 0.98531</span><progress style='margin:2px 4px;description_width:initial;' max='9' value='9'></progress>100% 9/9 [00:16&lt;00:00,  1.82s/it]</div>"
            ],
            "text/plain": [
              "<tqdm._fake_ipywidgets.HBox object>"
            ]
          },
          "metadata": {
            "tags": []
          }
        },
        {
          "output_type": "display_data",
          "data": {
            "text/html": [
              "<div style=\"display:flex;flex-direction:row;\"><span>Epoch: 19/200. Iteration: 9/9. Cls loss: 0.35887. Reg loss: 0.51806. Batch loss: 0.87693 Total loss: 0.98594</span><progress style='margin:2px 4px;description_width:initial;' max='9' value='9'></progress>100% 9/9 [00:16&lt;00:00,  1.82s/it]</div>"
            ],
            "text/plain": [
              "<tqdm._fake_ipywidgets.HBox object>"
            ]
          },
          "metadata": {
            "tags": []
          }
        },
        {
          "output_type": "display_data",
          "data": {
            "text/html": [
              "<div style=\"display:flex;flex-direction:row;\"><span>Epoch: 20/200. Iteration: 9/9. Cls loss: 0.34896. Reg loss: 0.65553. Batch loss: 1.00449 Total loss: 0.94770</span><progress style='margin:2px 4px;description_width:initial;' max='9' value='9'></progress>100% 9/9 [00:16&lt;00:00,  1.81s/it]</div>"
            ],
            "text/plain": [
              "<tqdm._fake_ipywidgets.HBox object>"
            ]
          },
          "metadata": {
            "tags": []
          }
        },
        {
          "output_type": "display_data",
          "data": {
            "text/html": [
              "<div style=\"display:flex;flex-direction:row;\"><span>Epoch: 21/200. Iteration: 9/9. Cls loss: 0.32066. Reg loss: 0.52373. Batch loss: 0.84440 Total loss: 0.88079</span><progress style='margin:2px 4px;description_width:initial;' max='9' value='9'></progress>100% 9/9 [00:16&lt;00:00,  1.81s/it]</div>"
            ],
            "text/plain": [
              "<tqdm._fake_ipywidgets.HBox object>"
            ]
          },
          "metadata": {
            "tags": []
          }
        },
        {
          "output_type": "display_data",
          "data": {
            "text/html": [
              "<div style=\"display:flex;flex-direction:row;\"><span>Epoch: 22/200. Iteration: 9/9. Cls loss: 0.28511. Reg loss: 0.53030. Batch loss: 0.81541 Total loss: 0.90089</span><progress style='margin:2px 4px;description_width:initial;' max='9' value='9'></progress>100% 9/9 [00:16&lt;00:00,  1.83s/it]</div>"
            ],
            "text/plain": [
              "<tqdm._fake_ipywidgets.HBox object>"
            ]
          },
          "metadata": {
            "tags": []
          }
        },
        {
          "output_type": "display_data",
          "data": {
            "text/html": [
              "<div style=\"display:flex;flex-direction:row;\"><span>Epoch: 23/200. Iteration: 9/9. Cls loss: 0.23451. Reg loss: 0.42953. Batch loss: 0.66403 Total loss: 0.84677</span><progress style='margin:2px 4px;description_width:initial;' max='9' value='9'></progress>100% 9/9 [00:16&lt;00:00,  1.82s/it]</div>"
            ],
            "text/plain": [
              "<tqdm._fake_ipywidgets.HBox object>"
            ]
          },
          "metadata": {
            "tags": []
          }
        },
        {
          "output_type": "display_data",
          "data": {
            "text/html": [
              "<div style=\"display:flex;flex-direction:row;\"><span>Epoch: 24/200. Iteration: 9/9. Cls loss: 0.23954. Reg loss: 0.48931. Batch loss: 0.72885 Total loss: 0.86597</span><progress style='margin:2px 4px;description_width:initial;' max='9' value='9'></progress>100% 9/9 [00:16&lt;00:00,  1.81s/it]</div>"
            ],
            "text/plain": [
              "<tqdm._fake_ipywidgets.HBox object>"
            ]
          },
          "metadata": {
            "tags": []
          }
        },
        {
          "output_type": "display_data",
          "data": {
            "text/html": [
              "<div style=\"display:flex;flex-direction:row;\"><span>Epoch: 25/200. Iteration: 9/9. Cls loss: 0.30694. Reg loss: 0.68315. Batch loss: 0.99009 Total loss: 0.80754</span><progress style='margin:2px 4px;description_width:initial;' max='9' value='9'></progress>100% 9/9 [00:16&lt;00:00,  1.82s/it]</div>"
            ],
            "text/plain": [
              "<tqdm._fake_ipywidgets.HBox object>"
            ]
          },
          "metadata": {
            "tags": []
          }
        },
        {
          "output_type": "display_data",
          "data": {
            "text/html": [
              "<div style=\"display:flex;flex-direction:row;\"><span>Epoch: 26/200. Iteration: 9/9. Cls loss: 0.26759. Reg loss: 0.47485. Batch loss: 0.74244 Total loss: 0.81675</span><progress style='margin:2px 4px;description_width:initial;' max='9' value='9'></progress>100% 9/9 [00:16&lt;00:00,  1.81s/it]</div>"
            ],
            "text/plain": [
              "<tqdm._fake_ipywidgets.HBox object>"
            ]
          },
          "metadata": {
            "tags": []
          }
        },
        {
          "output_type": "display_data",
          "data": {
            "text/html": [
              "<div style=\"display:flex;flex-direction:row;\"><span>Epoch: 27/200. Iteration: 9/9. Cls loss: 0.27556. Reg loss: 0.55502. Batch loss: 0.83057 Total loss: 0.80024</span><progress style='margin:2px 4px;description_width:initial;' max='9' value='9'></progress>100% 9/9 [00:16&lt;00:00,  1.83s/it]</div>"
            ],
            "text/plain": [
              "<tqdm._fake_ipywidgets.HBox object>"
            ]
          },
          "metadata": {
            "tags": []
          }
        },
        {
          "output_type": "display_data",
          "data": {
            "text/html": [
              "<div style=\"display:flex;flex-direction:row;\"><span>Epoch: 28/200. Iteration: 9/9. Cls loss: 0.33839. Reg loss: 0.63726. Batch loss: 0.97565 Total loss: 0.77382</span><progress style='margin:2px 4px;description_width:initial;' max='9' value='9'></progress>100% 9/9 [00:16&lt;00:00,  1.82s/it]</div>"
            ],
            "text/plain": [
              "<tqdm._fake_ipywidgets.HBox object>"
            ]
          },
          "metadata": {
            "tags": []
          }
        },
        {
          "output_type": "display_data",
          "data": {
            "text/html": [
              "<div style=\"display:flex;flex-direction:row;\"><span>Epoch: 29/200. Iteration: 9/9. Cls loss: 0.33103. Reg loss: 0.60565. Batch loss: 0.93668 Total loss: 0.75302</span><progress style='margin:2px 4px;description_width:initial;' max='9' value='9'></progress>100% 9/9 [00:16&lt;00:00,  1.82s/it]</div>"
            ],
            "text/plain": [
              "<tqdm._fake_ipywidgets.HBox object>"
            ]
          },
          "metadata": {
            "tags": []
          }
        },
        {
          "output_type": "display_data",
          "data": {
            "text/html": [
              "<div style=\"display:flex;flex-direction:row;\"><span>Epoch: 30/200. Iteration: 9/9. Cls loss: 0.30279. Reg loss: 0.55252. Batch loss: 0.85531 Total loss: 0.78451</span><progress style='margin:2px 4px;description_width:initial;' max='9' value='9'></progress>100% 9/9 [00:16&lt;00:00,  1.82s/it]</div>"
            ],
            "text/plain": [
              "<tqdm._fake_ipywidgets.HBox object>"
            ]
          },
          "metadata": {
            "tags": []
          }
        },
        {
          "output_type": "display_data",
          "data": {
            "text/html": [
              "<div style=\"display:flex;flex-direction:row;\"><span>Epoch: 31/200. Iteration: 9/9. Cls loss: 0.22879. Reg loss: 0.44014. Batch loss: 0.66893 Total loss: 0.71046</span><progress style='margin:2px 4px;description_width:initial;' max='9' value='9'></progress>100% 9/9 [00:16&lt;00:00,  1.82s/it]</div>"
            ],
            "text/plain": [
              "<tqdm._fake_ipywidgets.HBox object>"
            ]
          },
          "metadata": {
            "tags": []
          }
        },
        {
          "output_type": "display_data",
          "data": {
            "text/html": [
              "<div style=\"display:flex;flex-direction:row;\"><span>Epoch: 32/200. Iteration: 9/9. Cls loss: 0.21567. Reg loss: 0.46007. Batch loss: 0.67574 Total loss: 0.72231</span><progress style='margin:2px 4px;description_width:initial;' max='9' value='9'></progress>100% 9/9 [00:16&lt;00:00,  1.82s/it]</div>"
            ],
            "text/plain": [
              "<tqdm._fake_ipywidgets.HBox object>"
            ]
          },
          "metadata": {
            "tags": []
          }
        },
        {
          "output_type": "display_data",
          "data": {
            "text/html": [
              "<div style=\"display:flex;flex-direction:row;\"><span>Epoch: 33/200. Iteration: 9/9. Cls loss: 0.20149. Reg loss: 0.42165. Batch loss: 0.62314 Total loss: 0.73505</span><progress style='margin:2px 4px;description_width:initial;' max='9' value='9'></progress>100% 9/9 [00:16&lt;00:00,  1.82s/it]</div>"
            ],
            "text/plain": [
              "<tqdm._fake_ipywidgets.HBox object>"
            ]
          },
          "metadata": {
            "tags": []
          }
        },
        {
          "output_type": "display_data",
          "data": {
            "text/html": [
              "<div style=\"display:flex;flex-direction:row;\"><span>Epoch: 34/200. Iteration: 9/9. Cls loss: 0.19189. Reg loss: 0.44871. Batch loss: 0.64060 Total loss: 0.70816</span><progress style='margin:2px 4px;description_width:initial;' max='9' value='9'></progress>100% 9/9 [00:16&lt;00:00,  1.81s/it]</div>"
            ],
            "text/plain": [
              "<tqdm._fake_ipywidgets.HBox object>"
            ]
          },
          "metadata": {
            "tags": []
          }
        },
        {
          "output_type": "display_data",
          "data": {
            "text/html": [
              "<div style=\"display:flex;flex-direction:row;\"><span>Epoch: 35/200. Iteration: 9/9. Cls loss: 0.24795. Reg loss: 0.51174. Batch loss: 0.75969 Total loss: 0.64479</span><progress style='margin:2px 4px;description_width:initial;' max='9' value='9'></progress>100% 9/9 [00:16&lt;00:00,  1.82s/it]</div>"
            ],
            "text/plain": [
              "<tqdm._fake_ipywidgets.HBox object>"
            ]
          },
          "metadata": {
            "tags": []
          }
        },
        {
          "output_type": "display_data",
          "data": {
            "text/html": [
              "<div style=\"display:flex;flex-direction:row;\"><span>Epoch: 36/200. Iteration: 9/9. Cls loss: 0.19934. Reg loss: 0.38713. Batch loss: 0.58647 Total loss: 0.66594</span><progress style='margin:2px 4px;description_width:initial;' max='9' value='9'></progress>100% 9/9 [00:16&lt;00:00,  1.82s/it]</div>"
            ],
            "text/plain": [
              "<tqdm._fake_ipywidgets.HBox object>"
            ]
          },
          "metadata": {
            "tags": []
          }
        },
        {
          "output_type": "display_data",
          "data": {
            "text/html": [
              "<div style=\"display:flex;flex-direction:row;\"><span>Epoch: 37/200. Iteration: 9/9. Cls loss: 0.17782. Reg loss: 0.42029. Batch loss: 0.59811 Total loss: 0.63665</span><progress style='margin:2px 4px;description_width:initial;' max='9' value='9'></progress>100% 9/9 [00:16&lt;00:00,  1.83s/it]</div>"
            ],
            "text/plain": [
              "<tqdm._fake_ipywidgets.HBox object>"
            ]
          },
          "metadata": {
            "tags": []
          }
        },
        {
          "output_type": "display_data",
          "data": {
            "text/html": [
              "<div style=\"display:flex;flex-direction:row;\"><span>Epoch: 38/200. Iteration: 9/9. Cls loss: 0.16479. Reg loss: 0.37418. Batch loss: 0.53897 Total loss: 0.66044</span><progress style='margin:2px 4px;description_width:initial;' max='9' value='9'></progress>100% 9/9 [00:16&lt;00:00,  1.82s/it]</div>"
            ],
            "text/plain": [
              "<tqdm._fake_ipywidgets.HBox object>"
            ]
          },
          "metadata": {
            "tags": []
          }
        },
        {
          "output_type": "display_data",
          "data": {
            "text/html": [
              "<div style=\"display:flex;flex-direction:row;\"><span>Epoch: 39/200. Iteration: 9/9. Cls loss: 0.23465. Reg loss: 0.47333. Batch loss: 0.70798 Total loss: 0.64524</span><progress style='margin:2px 4px;description_width:initial;' max='9' value='9'></progress>100% 9/9 [00:16&lt;00:00,  1.82s/it]</div>"
            ],
            "text/plain": [
              "<tqdm._fake_ipywidgets.HBox object>"
            ]
          },
          "metadata": {
            "tags": []
          }
        },
        {
          "output_type": "display_data",
          "data": {
            "text/html": [
              "<div style=\"display:flex;flex-direction:row;\"><span>Epoch: 40/200. Iteration: 9/9. Cls loss: 0.21418. Reg loss: 0.51573. Batch loss: 0.72991 Total loss: 0.61213</span><progress style='margin:2px 4px;description_width:initial;' max='9' value='9'></progress>100% 9/9 [00:16&lt;00:00,  1.82s/it]</div>"
            ],
            "text/plain": [
              "<tqdm._fake_ipywidgets.HBox object>"
            ]
          },
          "metadata": {
            "tags": []
          }
        },
        {
          "output_type": "display_data",
          "data": {
            "text/html": [
              "<div style=\"display:flex;flex-direction:row;\"><span>Epoch: 41/200. Iteration: 9/9. Cls loss: 0.20477. Reg loss: 0.43332. Batch loss: 0.63809 Total loss: 0.60613</span><progress style='margin:2px 4px;description_width:initial;' max='9' value='9'></progress>100% 9/9 [00:16&lt;00:00,  1.82s/it]</div>"
            ],
            "text/plain": [
              "<tqdm._fake_ipywidgets.HBox object>"
            ]
          },
          "metadata": {
            "tags": []
          }
        },
        {
          "output_type": "display_data",
          "data": {
            "text/html": [
              "<div style=\"display:flex;flex-direction:row;\"><span>Epoch: 42/200. Iteration: 9/9. Cls loss: 0.11830. Reg loss: 0.29463. Batch loss: 0.41293 Total loss: 0.58707</span><progress style='margin:2px 4px;description_width:initial;' max='9' value='9'></progress>100% 9/9 [00:16&lt;00:00,  1.82s/it]</div>"
            ],
            "text/plain": [
              "<tqdm._fake_ipywidgets.HBox object>"
            ]
          },
          "metadata": {
            "tags": []
          }
        },
        {
          "output_type": "display_data",
          "data": {
            "text/html": [
              "<div style=\"display:flex;flex-direction:row;\"><span>Epoch: 43/200. Iteration: 9/9. Cls loss: 0.20666. Reg loss: 0.53360. Batch loss: 0.74027 Total loss: 0.59108</span><progress style='margin:2px 4px;description_width:initial;' max='9' value='9'></progress>100% 9/9 [00:16&lt;00:00,  1.82s/it]</div>"
            ],
            "text/plain": [
              "<tqdm._fake_ipywidgets.HBox object>"
            ]
          },
          "metadata": {
            "tags": []
          }
        },
        {
          "output_type": "display_data",
          "data": {
            "text/html": [
              "<div style=\"display:flex;flex-direction:row;\"><span>Epoch: 44/200. Iteration: 9/9. Cls loss: 0.25706. Reg loss: 0.43358. Batch loss: 0.69063 Total loss: 0.57536</span><progress style='margin:2px 4px;description_width:initial;' max='9' value='9'></progress>100% 9/9 [00:16&lt;00:00,  1.81s/it]</div>"
            ],
            "text/plain": [
              "<tqdm._fake_ipywidgets.HBox object>"
            ]
          },
          "metadata": {
            "tags": []
          }
        },
        {
          "output_type": "display_data",
          "data": {
            "text/html": [
              "<div style=\"display:flex;flex-direction:row;\"><span>Epoch: 45/200. Iteration: 9/9. Cls loss: 0.11586. Reg loss: 0.26176. Batch loss: 0.37762 Total loss: 0.54957</span><progress style='margin:2px 4px;description_width:initial;' max='9' value='9'></progress>100% 9/9 [00:16&lt;00:00,  1.82s/it]</div>"
            ],
            "text/plain": [
              "<tqdm._fake_ipywidgets.HBox object>"
            ]
          },
          "metadata": {
            "tags": []
          }
        },
        {
          "output_type": "display_data",
          "data": {
            "text/html": [
              "<div style=\"display:flex;flex-direction:row;\"><span>Epoch: 46/200. Iteration: 9/9. Cls loss: 0.22277. Reg loss: 0.33816. Batch loss: 0.56093 Total loss: 0.55933</span><progress style='margin:2px 4px;description_width:initial;' max='9' value='9'></progress>100% 9/9 [00:16&lt;00:00,  1.82s/it]</div>"
            ],
            "text/plain": [
              "<tqdm._fake_ipywidgets.HBox object>"
            ]
          },
          "metadata": {
            "tags": []
          }
        },
        {
          "output_type": "display_data",
          "data": {
            "text/html": [
              "<div style=\"display:flex;flex-direction:row;\"><span>Epoch: 47/200. Iteration: 9/9. Cls loss: 0.17488. Reg loss: 0.34514. Batch loss: 0.52002 Total loss: 0.55260</span><progress style='margin:2px 4px;description_width:initial;' max='9' value='9'></progress>100% 9/9 [00:16&lt;00:00,  1.82s/it]</div>"
            ],
            "text/plain": [
              "<tqdm._fake_ipywidgets.HBox object>"
            ]
          },
          "metadata": {
            "tags": []
          }
        },
        {
          "output_type": "display_data",
          "data": {
            "text/html": [
              "<div style=\"display:flex;flex-direction:row;\"><span>Epoch: 48/200. Iteration: 9/9. Cls loss: 0.19757. Reg loss: 0.43872. Batch loss: 0.63630 Total loss: 0.54549</span><progress style='margin:2px 4px;description_width:initial;' max='9' value='9'></progress>100% 9/9 [00:16&lt;00:00,  1.83s/it]</div>"
            ],
            "text/plain": [
              "<tqdm._fake_ipywidgets.HBox object>"
            ]
          },
          "metadata": {
            "tags": []
          }
        },
        {
          "output_type": "display_data",
          "data": {
            "text/html": [
              "<div style=\"display:flex;flex-direction:row;\"><span>Epoch: 49/200. Iteration: 9/9. Cls loss: 0.15200. Reg loss: 0.41657. Batch loss: 0.56857 Total loss: 0.52806</span><progress style='margin:2px 4px;description_width:initial;' max='9' value='9'></progress>100% 9/9 [00:16&lt;00:00,  1.82s/it]</div>"
            ],
            "text/plain": [
              "<tqdm._fake_ipywidgets.HBox object>"
            ]
          },
          "metadata": {
            "tags": []
          }
        },
        {
          "output_type": "display_data",
          "data": {
            "text/html": [
              "<div style=\"display:flex;flex-direction:row;\"><span>Epoch: 50/200. Iteration: 9/9. Cls loss: 0.10700. Reg loss: 0.28791. Batch loss: 0.39491 Total loss: 0.55477</span><progress style='margin:2px 4px;description_width:initial;' max='9' value='9'></progress>100% 9/9 [00:16&lt;00:00,  1.83s/it]</div>"
            ],
            "text/plain": [
              "<tqdm._fake_ipywidgets.HBox object>"
            ]
          },
          "metadata": {
            "tags": []
          }
        },
        {
          "output_type": "display_data",
          "data": {
            "text/html": [
              "<div style=\"display:flex;flex-direction:row;\"><span>Epoch: 51/200. Iteration: 9/9. Cls loss: 0.12041. Reg loss: 0.30593. Batch loss: 0.42634 Total loss: 0.49707</span><progress style='margin:2px 4px;description_width:initial;' max='9' value='9'></progress>100% 9/9 [00:16&lt;00:00,  1.83s/it]</div>"
            ],
            "text/plain": [
              "<tqdm._fake_ipywidgets.HBox object>"
            ]
          },
          "metadata": {
            "tags": []
          }
        },
        {
          "output_type": "display_data",
          "data": {
            "text/html": [
              "<div style=\"display:flex;flex-direction:row;\"><span>Epoch: 52/200. Iteration: 9/9. Cls loss: 0.14772. Reg loss: 0.36975. Batch loss: 0.51747 Total loss: 0.51382</span><progress style='margin:2px 4px;description_width:initial;' max='9' value='9'></progress>100% 9/9 [00:16&lt;00:00,  1.82s/it]</div>"
            ],
            "text/plain": [
              "<tqdm._fake_ipywidgets.HBox object>"
            ]
          },
          "metadata": {
            "tags": []
          }
        },
        {
          "output_type": "display_data",
          "data": {
            "text/html": [
              "<div style=\"display:flex;flex-direction:row;\"><span>Epoch: 53/200. Iteration: 9/9. Cls loss: 0.10623. Reg loss: 0.31581. Batch loss: 0.42204 Total loss: 0.48222</span><progress style='margin:2px 4px;description_width:initial;' max='9' value='9'></progress>100% 9/9 [00:16&lt;00:00,  1.82s/it]</div>"
            ],
            "text/plain": [
              "<tqdm._fake_ipywidgets.HBox object>"
            ]
          },
          "metadata": {
            "tags": []
          }
        },
        {
          "output_type": "display_data",
          "data": {
            "text/html": [
              "<div style=\"display:flex;flex-direction:row;\"><span>Epoch: 54/200. Iteration: 9/9. Cls loss: 0.10995. Reg loss: 0.29147. Batch loss: 0.40141 Total loss: 0.49866</span><progress style='margin:2px 4px;description_width:initial;' max='9' value='9'></progress>100% 9/9 [00:16&lt;00:00,  1.81s/it]</div>"
            ],
            "text/plain": [
              "<tqdm._fake_ipywidgets.HBox object>"
            ]
          },
          "metadata": {
            "tags": []
          }
        },
        {
          "output_type": "display_data",
          "data": {
            "text/html": [
              "<div style=\"display:flex;flex-direction:row;\"><span>Epoch: 55/200. Iteration: 9/9. Cls loss: 0.15016. Reg loss: 0.34255. Batch loss: 0.49271 Total loss: 0.47349</span><progress style='margin:2px 4px;description_width:initial;' max='9' value='9'></progress>100% 9/9 [00:16&lt;00:00,  1.83s/it]</div>"
            ],
            "text/plain": [
              "<tqdm._fake_ipywidgets.HBox object>"
            ]
          },
          "metadata": {
            "tags": []
          }
        },
        {
          "output_type": "display_data",
          "data": {
            "text/html": [
              "<div style=\"display:flex;flex-direction:row;\"><span>Epoch: 56/200. Iteration: 9/9. Cls loss: 0.17485. Reg loss: 0.42924. Batch loss: 0.60409 Total loss: 0.47739</span><progress style='margin:2px 4px;description_width:initial;' max='9' value='9'></progress>100% 9/9 [00:16&lt;00:00,  1.82s/it]</div>"
            ],
            "text/plain": [
              "<tqdm._fake_ipywidgets.HBox object>"
            ]
          },
          "metadata": {
            "tags": []
          }
        },
        {
          "output_type": "display_data",
          "data": {
            "text/html": [
              "<div style=\"display:flex;flex-direction:row;\"><span>Epoch: 57/200. Iteration: 9/9. Cls loss: 0.15487. Reg loss: 0.35111. Batch loss: 0.50598 Total loss: 0.45458</span><progress style='margin:2px 4px;description_width:initial;' max='9' value='9'></progress>100% 9/9 [00:16&lt;00:00,  1.82s/it]</div>"
            ],
            "text/plain": [
              "<tqdm._fake_ipywidgets.HBox object>"
            ]
          },
          "metadata": {
            "tags": []
          }
        },
        {
          "output_type": "display_data",
          "data": {
            "text/html": [
              "<div style=\"display:flex;flex-direction:row;\"><span>Epoch: 58/200. Iteration: 9/9. Cls loss: 0.11168. Reg loss: 0.29850. Batch loss: 0.41019 Total loss: 0.48329</span><progress style='margin:2px 4px;description_width:initial;' max='9' value='9'></progress>100% 9/9 [00:16&lt;00:00,  1.81s/it]</div>"
            ],
            "text/plain": [
              "<tqdm._fake_ipywidgets.HBox object>"
            ]
          },
          "metadata": {
            "tags": []
          }
        },
        {
          "output_type": "display_data",
          "data": {
            "text/html": [
              "<div style=\"display:flex;flex-direction:row;\"><span>Epoch: 59/200. Iteration: 9/9. Cls loss: 0.12653. Reg loss: 0.33058. Batch loss: 0.45711 Total loss: 0.43919</span><progress style='margin:2px 4px;description_width:initial;' max='9' value='9'></progress>100% 9/9 [00:16&lt;00:00,  1.82s/it]</div>"
            ],
            "text/plain": [
              "<tqdm._fake_ipywidgets.HBox object>"
            ]
          },
          "metadata": {
            "tags": []
          }
        },
        {
          "output_type": "display_data",
          "data": {
            "text/html": [
              "<div style=\"display:flex;flex-direction:row;\"><span>Epoch: 60/200. Iteration: 9/9. Cls loss: 0.14659. Reg loss: 0.29560. Batch loss: 0.44219 Total loss: 0.45965</span><progress style='margin:2px 4px;description_width:initial;' max='9' value='9'></progress>100% 9/9 [00:16&lt;00:00,  1.82s/it]</div>"
            ],
            "text/plain": [
              "<tqdm._fake_ipywidgets.HBox object>"
            ]
          },
          "metadata": {
            "tags": []
          }
        },
        {
          "output_type": "display_data",
          "data": {
            "text/html": [
              "<div style=\"display:flex;flex-direction:row;\"><span>Epoch: 61/200. Iteration: 9/9. Cls loss: 0.11544. Reg loss: 0.30128. Batch loss: 0.41672 Total loss: 0.44181</span><progress style='margin:2px 4px;description_width:initial;' max='9' value='9'></progress>100% 9/9 [00:16&lt;00:00,  1.82s/it]</div>"
            ],
            "text/plain": [
              "<tqdm._fake_ipywidgets.HBox object>"
            ]
          },
          "metadata": {
            "tags": []
          }
        },
        {
          "output_type": "display_data",
          "data": {
            "text/html": [
              "<div style=\"display:flex;flex-direction:row;\"><span>Epoch: 62/200. Iteration: 9/9. Cls loss: 0.10575. Reg loss: 0.29924. Batch loss: 0.40499 Total loss: 0.44722</span><progress style='margin:2px 4px;description_width:initial;' max='9' value='9'></progress>100% 9/9 [00:16&lt;00:00,  1.82s/it]</div>"
            ],
            "text/plain": [
              "<tqdm._fake_ipywidgets.HBox object>"
            ]
          },
          "metadata": {
            "tags": []
          }
        },
        {
          "output_type": "display_data",
          "data": {
            "text/html": [
              "<div style=\"display:flex;flex-direction:row;\"><span>Epoch: 63/200. Iteration: 9/9. Cls loss: 0.14718. Reg loss: 0.35369. Batch loss: 0.50087 Total loss: 0.48130</span><progress style='margin:2px 4px;description_width:initial;' max='9' value='9'></progress>100% 9/9 [00:16&lt;00:00,  1.83s/it]</div>"
            ],
            "text/plain": [
              "<tqdm._fake_ipywidgets.HBox object>"
            ]
          },
          "metadata": {
            "tags": []
          }
        },
        {
          "output_type": "stream",
          "text": [
            "Epoch    63: reducing learning rate of group 0 to 1.0000e-05.\n"
          ],
          "name": "stdout"
        },
        {
          "output_type": "display_data",
          "data": {
            "text/html": [
              "<div style=\"display:flex;flex-direction:row;\"><span>Epoch: 64/200. Iteration: 9/9. Cls loss: 0.13306. Reg loss: 0.34362. Batch loss: 0.47667 Total loss: 0.48018</span><progress style='margin:2px 4px;description_width:initial;' max='9' value='9'></progress>100% 9/9 [00:16&lt;00:00,  1.82s/it]</div>"
            ],
            "text/plain": [
              "<tqdm._fake_ipywidgets.HBox object>"
            ]
          },
          "metadata": {
            "tags": []
          }
        },
        {
          "output_type": "display_data",
          "data": {
            "text/html": [
              "<div style=\"display:flex;flex-direction:row;\"><span>Epoch: 65/200. Iteration: 9/9. Cls loss: 0.08350. Reg loss: 0.27457. Batch loss: 0.35807 Total loss: 0.38102</span><progress style='margin:2px 4px;description_width:initial;' max='9' value='9'></progress>100% 9/9 [00:16&lt;00:00,  1.82s/it]</div>"
            ],
            "text/plain": [
              "<tqdm._fake_ipywidgets.HBox object>"
            ]
          },
          "metadata": {
            "tags": []
          }
        },
        {
          "output_type": "display_data",
          "data": {
            "text/html": [
              "<div style=\"display:flex;flex-direction:row;\"><span>Epoch: 66/200. Iteration: 9/9. Cls loss: 0.14315. Reg loss: 0.31952. Batch loss: 0.46267 Total loss: 0.40947</span><progress style='margin:2px 4px;description_width:initial;' max='9' value='9'></progress>100% 9/9 [00:16&lt;00:00,  1.82s/it]</div>"
            ],
            "text/plain": [
              "<tqdm._fake_ipywidgets.HBox object>"
            ]
          },
          "metadata": {
            "tags": []
          }
        },
        {
          "output_type": "display_data",
          "data": {
            "text/html": [
              "<div style=\"display:flex;flex-direction:row;\"><span>Epoch: 67/200. Iteration: 9/9. Cls loss: 0.12589. Reg loss: 0.28462. Batch loss: 0.41051 Total loss: 0.39560</span><progress style='margin:2px 4px;description_width:initial;' max='9' value='9'></progress>100% 9/9 [00:16&lt;00:00,  1.82s/it]</div>"
            ],
            "text/plain": [
              "<tqdm._fake_ipywidgets.HBox object>"
            ]
          },
          "metadata": {
            "tags": []
          }
        },
        {
          "output_type": "display_data",
          "data": {
            "text/html": [
              "<div style=\"display:flex;flex-direction:row;\"><span>Epoch: 68/200. Iteration: 9/9. Cls loss: 0.10822. Reg loss: 0.32718. Batch loss: 0.43539 Total loss: 0.40496</span><progress style='margin:2px 4px;description_width:initial;' max='9' value='9'></progress>100% 9/9 [00:16&lt;00:00,  1.82s/it]</div>"
            ],
            "text/plain": [
              "<tqdm._fake_ipywidgets.HBox object>"
            ]
          },
          "metadata": {
            "tags": []
          }
        },
        {
          "output_type": "display_data",
          "data": {
            "text/html": [
              "<div style=\"display:flex;flex-direction:row;\"><span>Epoch: 69/200. Iteration: 9/9. Cls loss: 0.10675. Reg loss: 0.29754. Batch loss: 0.40429 Total loss: 0.40616</span><progress style='margin:2px 4px;description_width:initial;' max='9' value='9'></progress>100% 9/9 [00:16&lt;00:00,  1.82s/it]</div>"
            ],
            "text/plain": [
              "<tqdm._fake_ipywidgets.HBox object>"
            ]
          },
          "metadata": {
            "tags": []
          }
        },
        {
          "output_type": "stream",
          "text": [
            "Epoch    69: reducing learning rate of group 0 to 1.0000e-06.\n"
          ],
          "name": "stdout"
        },
        {
          "output_type": "display_data",
          "data": {
            "text/html": [
              "<div style=\"display:flex;flex-direction:row;\"><span>Epoch: 70/200. Iteration: 9/9. Cls loss: 0.10494. Reg loss: 0.29348. Batch loss: 0.39842 Total loss: 0.39867</span><progress style='margin:2px 4px;description_width:initial;' max='9' value='9'></progress>100% 9/9 [00:16&lt;00:00,  1.82s/it]</div>"
            ],
            "text/plain": [
              "<tqdm._fake_ipywidgets.HBox object>"
            ]
          },
          "metadata": {
            "tags": []
          }
        },
        {
          "output_type": "display_data",
          "data": {
            "text/html": [
              "<div style=\"display:flex;flex-direction:row;\"><span>Epoch: 71/200. Iteration: 9/9. Cls loss: 0.10806. Reg loss: 0.30924. Batch loss: 0.41730 Total loss: 0.40457</span><progress style='margin:2px 4px;description_width:initial;' max='9' value='9'></progress>100% 9/9 [00:16&lt;00:00,  1.82s/it]</div>"
            ],
            "text/plain": [
              "<tqdm._fake_ipywidgets.HBox object>"
            ]
          },
          "metadata": {
            "tags": []
          }
        },
        {
          "output_type": "display_data",
          "data": {
            "text/html": [
              "<div style=\"display:flex;flex-direction:row;\"><span>Epoch: 72/200. Iteration: 9/9. Cls loss: 0.09370. Reg loss: 0.23503. Batch loss: 0.32873 Total loss: 0.39174</span><progress style='margin:2px 4px;description_width:initial;' max='9' value='9'></progress>100% 9/9 [00:16&lt;00:00,  1.82s/it]</div>"
            ],
            "text/plain": [
              "<tqdm._fake_ipywidgets.HBox object>"
            ]
          },
          "metadata": {
            "tags": []
          }
        },
        {
          "output_type": "display_data",
          "data": {
            "text/html": [
              "<div style=\"display:flex;flex-direction:row;\"><span>Epoch: 73/200. Iteration: 9/9. Cls loss: 0.16437. Reg loss: 0.32725. Batch loss: 0.49163 Total loss: 0.38894</span><progress style='margin:2px 4px;description_width:initial;' max='9' value='9'></progress>100% 9/9 [00:16&lt;00:00,  1.82s/it]</div>"
            ],
            "text/plain": [
              "<tqdm._fake_ipywidgets.HBox object>"
            ]
          },
          "metadata": {
            "tags": []
          }
        },
        {
          "output_type": "stream",
          "text": [
            "Epoch    73: reducing learning rate of group 0 to 1.0000e-07.\n"
          ],
          "name": "stdout"
        },
        {
          "output_type": "display_data",
          "data": {
            "text/html": [
              "<div style=\"display:flex;flex-direction:row;\"><span>Epoch: 74/200. Iteration: 9/9. Cls loss: 0.09307. Reg loss: 0.24657. Batch loss: 0.33964 Total loss: 0.39382</span><progress style='margin:2px 4px;description_width:initial;' max='9' value='9'></progress>100% 9/9 [00:16&lt;00:00,  1.82s/it]</div>"
            ],
            "text/plain": [
              "<tqdm._fake_ipywidgets.HBox object>"
            ]
          },
          "metadata": {
            "tags": []
          }
        },
        {
          "output_type": "display_data",
          "data": {
            "text/html": [
              "<div style=\"display:flex;flex-direction:row;\"><span>Epoch: 75/200. Iteration: 9/9. Cls loss: 0.12467. Reg loss: 0.28819. Batch loss: 0.41285 Total loss: 0.38508</span><progress style='margin:2px 4px;description_width:initial;' max='9' value='9'></progress>100% 9/9 [00:16&lt;00:00,  1.82s/it]</div>"
            ],
            "text/plain": [
              "<tqdm._fake_ipywidgets.HBox object>"
            ]
          },
          "metadata": {
            "tags": []
          }
        },
        {
          "output_type": "display_data",
          "data": {
            "text/html": [
              "<div style=\"display:flex;flex-direction:row;\"><span>Epoch: 76/200. Iteration: 9/9. Cls loss: 0.16394. Reg loss: 0.36741. Batch loss: 0.53134 Total loss: 0.39744</span><progress style='margin:2px 4px;description_width:initial;' max='9' value='9'></progress>100% 9/9 [00:16&lt;00:00,  1.82s/it]</div>"
            ],
            "text/plain": [
              "<tqdm._fake_ipywidgets.HBox object>"
            ]
          },
          "metadata": {
            "tags": []
          }
        },
        {
          "output_type": "display_data",
          "data": {
            "text/html": [
              "<div style=\"display:flex;flex-direction:row;\"><span>Epoch: 77/200. Iteration: 9/9. Cls loss: 0.08648. Reg loss: 0.20902. Batch loss: 0.29550 Total loss: 0.40744</span><progress style='margin:2px 4px;description_width:initial;' max='9' value='9'></progress>100% 9/9 [00:16&lt;00:00,  1.83s/it]</div>"
            ],
            "text/plain": [
              "<tqdm._fake_ipywidgets.HBox object>"
            ]
          },
          "metadata": {
            "tags": []
          }
        },
        {
          "output_type": "stream",
          "text": [
            "Epoch    77: reducing learning rate of group 0 to 1.0000e-08.\n"
          ],
          "name": "stdout"
        },
        {
          "output_type": "display_data",
          "data": {
            "text/html": [
              "<div style=\"display:flex;flex-direction:row;\"><span>Epoch: 78/200. Iteration: 9/9. Cls loss: 0.10854. Reg loss: 0.23619. Batch loss: 0.34473 Total loss: 0.41986</span><progress style='margin:2px 4px;description_width:initial;' max='9' value='9'></progress>100% 9/9 [00:16&lt;00:00,  1.82s/it]</div>"
            ],
            "text/plain": [
              "<tqdm._fake_ipywidgets.HBox object>"
            ]
          },
          "metadata": {
            "tags": []
          }
        },
        {
          "output_type": "display_data",
          "data": {
            "text/html": [
              "<div style=\"display:flex;flex-direction:row;\"><span>Epoch: 79/200. Iteration: 9/9. Cls loss: 0.13586. Reg loss: 0.33590. Batch loss: 0.47175 Total loss: 0.39605</span><progress style='margin:2px 4px;description_width:initial;' max='9' value='9'></progress>100% 9/9 [00:16&lt;00:00,  1.82s/it]</div>"
            ],
            "text/plain": [
              "<tqdm._fake_ipywidgets.HBox object>"
            ]
          },
          "metadata": {
            "tags": []
          }
        },
        {
          "output_type": "display_data",
          "data": {
            "text/html": [
              "<div style=\"display:flex;flex-direction:row;\"><span>Epoch: 80/200. Iteration: 9/9. Cls loss: 0.16576. Reg loss: 0.34387. Batch loss: 0.50963 Total loss: 0.40530</span><progress style='margin:2px 4px;description_width:initial;' max='9' value='9'></progress>100% 9/9 [00:16&lt;00:00,  1.82s/it]</div>"
            ],
            "text/plain": [
              "<tqdm._fake_ipywidgets.HBox object>"
            ]
          },
          "metadata": {
            "tags": []
          }
        },
        {
          "output_type": "display_data",
          "data": {
            "text/html": [
              "<div style=\"display:flex;flex-direction:row;\"><span>Epoch: 81/200. Iteration: 9/9. Cls loss: 0.08525. Reg loss: 0.21597. Batch loss: 0.30121 Total loss: 0.41101</span><progress style='margin:2px 4px;description_width:initial;' max='9' value='9'></progress>100% 9/9 [00:16&lt;00:00,  1.82s/it]</div>"
            ],
            "text/plain": [
              "<tqdm._fake_ipywidgets.HBox object>"
            ]
          },
          "metadata": {
            "tags": []
          }
        },
        {
          "output_type": "display_data",
          "data": {
            "text/html": [
              "<div style=\"display:flex;flex-direction:row;\"><span>Epoch: 82/200. Iteration: 9/9. Cls loss: 0.12850. Reg loss: 0.32587. Batch loss: 0.45438 Total loss: 0.39304</span><progress style='margin:2px 4px;description_width:initial;' max='9' value='9'></progress>100% 9/9 [00:16&lt;00:00,  1.82s/it]</div>"
            ],
            "text/plain": [
              "<tqdm._fake_ipywidgets.HBox object>"
            ]
          },
          "metadata": {
            "tags": []
          }
        },
        {
          "output_type": "display_data",
          "data": {
            "text/html": [
              "<div style=\"display:flex;flex-direction:row;\"><span>Epoch: 83/200. Iteration: 9/9. Cls loss: 0.09655. Reg loss: 0.25218. Batch loss: 0.34873 Total loss: 0.41222</span><progress style='margin:2px 4px;description_width:initial;' max='9' value='9'></progress>100% 9/9 [00:16&lt;00:00,  1.82s/it]</div>"
            ],
            "text/plain": [
              "<tqdm._fake_ipywidgets.HBox object>"
            ]
          },
          "metadata": {
            "tags": []
          }
        },
        {
          "output_type": "display_data",
          "data": {
            "text/html": [
              "<div style=\"display:flex;flex-direction:row;\"><span>Epoch: 84/200. Iteration: 9/9. Cls loss: 0.10699. Reg loss: 0.27799. Batch loss: 0.38498 Total loss: 0.39500</span><progress style='margin:2px 4px;description_width:initial;' max='9' value='9'></progress>100% 9/9 [00:16&lt;00:00,  1.82s/it]</div>"
            ],
            "text/plain": [
              "<tqdm._fake_ipywidgets.HBox object>"
            ]
          },
          "metadata": {
            "tags": []
          }
        },
        {
          "output_type": "display_data",
          "data": {
            "text/html": [
              "<div style=\"display:flex;flex-direction:row;\"><span>Epoch: 85/200. Iteration: 9/9. Cls loss: 0.10085. Reg loss: 0.20198. Batch loss: 0.30283 Total loss: 0.38977</span><progress style='margin:2px 4px;description_width:initial;' max='9' value='9'></progress>100% 9/9 [00:16&lt;00:00,  1.82s/it]</div>"
            ],
            "text/plain": [
              "<tqdm._fake_ipywidgets.HBox object>"
            ]
          },
          "metadata": {
            "tags": []
          }
        },
        {
          "output_type": "display_data",
          "data": {
            "text/html": [
              "<div style=\"display:flex;flex-direction:row;\"><span>Epoch: 86/200. Iteration: 9/9. Cls loss: 0.12824. Reg loss: 0.33279. Batch loss: 0.46103 Total loss: 0.39196</span><progress style='margin:2px 4px;description_width:initial;' max='9' value='9'></progress>100% 9/9 [00:16&lt;00:00,  1.82s/it]</div>"
            ],
            "text/plain": [
              "<tqdm._fake_ipywidgets.HBox object>"
            ]
          },
          "metadata": {
            "tags": []
          }
        },
        {
          "output_type": "display_data",
          "data": {
            "text/html": [
              "<div style=\"display:flex;flex-direction:row;\"><span>Epoch: 87/200. Iteration: 9/9. Cls loss: 0.14040. Reg loss: 0.33068. Batch loss: 0.47108 Total loss: 0.38480</span><progress style='margin:2px 4px;description_width:initial;' max='9' value='9'></progress>100% 9/9 [00:16&lt;00:00,  1.82s/it]</div>"
            ],
            "text/plain": [
              "<tqdm._fake_ipywidgets.HBox object>"
            ]
          },
          "metadata": {
            "tags": []
          }
        },
        {
          "output_type": "display_data",
          "data": {
            "text/html": [
              "<div style=\"display:flex;flex-direction:row;\"><span>Epoch: 88/200. Iteration: 9/9. Cls loss: 0.13632. Reg loss: 0.29039. Batch loss: 0.42671 Total loss: 0.38972</span><progress style='margin:2px 4px;description_width:initial;' max='9' value='9'></progress>100% 9/9 [00:16&lt;00:00,  1.83s/it]</div>"
            ],
            "text/plain": [
              "<tqdm._fake_ipywidgets.HBox object>"
            ]
          },
          "metadata": {
            "tags": []
          }
        },
        {
          "output_type": "display_data",
          "data": {
            "text/html": [
              "<div style=\"display:flex;flex-direction:row;\"><span>Epoch: 89/200. Iteration: 9/9. Cls loss: 0.09605. Reg loss: 0.27564. Batch loss: 0.37169 Total loss: 0.41571</span><progress style='margin:2px 4px;description_width:initial;' max='9' value='9'></progress>100% 9/9 [00:16&lt;00:00,  1.82s/it]</div>"
            ],
            "text/plain": [
              "<tqdm._fake_ipywidgets.HBox object>"
            ]
          },
          "metadata": {
            "tags": []
          }
        },
        {
          "output_type": "display_data",
          "data": {
            "text/html": [
              "<div style=\"display:flex;flex-direction:row;\"><span>Epoch: 90/200. Iteration: 9/9. Cls loss: 0.11472. Reg loss: 0.24262. Batch loss: 0.35735 Total loss: 0.38597</span><progress style='margin:2px 4px;description_width:initial;' max='9' value='9'></progress>100% 9/9 [00:16&lt;00:00,  1.82s/it]</div>"
            ],
            "text/plain": [
              "<tqdm._fake_ipywidgets.HBox object>"
            ]
          },
          "metadata": {
            "tags": []
          }
        },
        {
          "output_type": "display_data",
          "data": {
            "text/html": [
              "<div style=\"display:flex;flex-direction:row;\"><span>Epoch: 91/200. Iteration: 9/9. Cls loss: 0.11961. Reg loss: 0.29951. Batch loss: 0.41912 Total loss: 0.40391</span><progress style='margin:2px 4px;description_width:initial;' max='9' value='9'></progress>100% 9/9 [00:16&lt;00:00,  1.83s/it]</div>"
            ],
            "text/plain": [
              "<tqdm._fake_ipywidgets.HBox object>"
            ]
          },
          "metadata": {
            "tags": []
          }
        },
        {
          "output_type": "display_data",
          "data": {
            "text/html": [
              "<div style=\"display:flex;flex-direction:row;\"><span>Epoch: 92/200. Iteration: 9/9. Cls loss: 0.13433. Reg loss: 0.33290. Batch loss: 0.46723 Total loss: 0.39995</span><progress style='margin:2px 4px;description_width:initial;' max='9' value='9'></progress>100% 9/9 [00:16&lt;00:00,  1.82s/it]</div>"
            ],
            "text/plain": [
              "<tqdm._fake_ipywidgets.HBox object>"
            ]
          },
          "metadata": {
            "tags": []
          }
        },
        {
          "output_type": "display_data",
          "data": {
            "text/html": [
              "<div style=\"display:flex;flex-direction:row;\"><span>Epoch: 93/200. Iteration: 9/9. Cls loss: 0.12109. Reg loss: 0.31210. Batch loss: 0.43319 Total loss: 0.40877</span><progress style='margin:2px 4px;description_width:initial;' max='9' value='9'></progress>100% 9/9 [00:16&lt;00:00,  1.82s/it]</div>"
            ],
            "text/plain": [
              "<tqdm._fake_ipywidgets.HBox object>"
            ]
          },
          "metadata": {
            "tags": []
          }
        },
        {
          "output_type": "display_data",
          "data": {
            "text/html": [
              "<div style=\"display:flex;flex-direction:row;\"><span>Epoch: 94/200. Iteration: 9/9. Cls loss: 0.11072. Reg loss: 0.29585. Batch loss: 0.40657 Total loss: 0.38826</span><progress style='margin:2px 4px;description_width:initial;' max='9' value='9'></progress>100% 9/9 [00:16&lt;00:00,  1.81s/it]</div>"
            ],
            "text/plain": [
              "<tqdm._fake_ipywidgets.HBox object>"
            ]
          },
          "metadata": {
            "tags": []
          }
        },
        {
          "output_type": "display_data",
          "data": {
            "text/html": [
              "<div style=\"display:flex;flex-direction:row;\"><span>Epoch: 95/200. Iteration: 9/9. Cls loss: 0.13338. Reg loss: 0.33720. Batch loss: 0.47058 Total loss: 0.39710</span><progress style='margin:2px 4px;description_width:initial;' max='9' value='9'></progress>100% 9/9 [00:16&lt;00:00,  1.82s/it]</div>"
            ],
            "text/plain": [
              "<tqdm._fake_ipywidgets.HBox object>"
            ]
          },
          "metadata": {
            "tags": []
          }
        },
        {
          "output_type": "display_data",
          "data": {
            "text/html": [
              "<div style=\"display:flex;flex-direction:row;\"><span>Epoch: 96/200. Iteration: 9/9. Cls loss: 0.12157. Reg loss: 0.31856. Batch loss: 0.44013 Total loss: 0.40838</span><progress style='margin:2px 4px;description_width:initial;' max='9' value='9'></progress>100% 9/9 [00:16&lt;00:00,  1.82s/it]</div>"
            ],
            "text/plain": [
              "<tqdm._fake_ipywidgets.HBox object>"
            ]
          },
          "metadata": {
            "tags": []
          }
        },
        {
          "output_type": "display_data",
          "data": {
            "text/html": [
              "<div style=\"display:flex;flex-direction:row;\"><span>Epoch: 97/200. Iteration: 9/9. Cls loss: 0.17927. Reg loss: 0.38511. Batch loss: 0.56438 Total loss: 0.40495</span><progress style='margin:2px 4px;description_width:initial;' max='9' value='9'></progress>100% 9/9 [00:16&lt;00:00,  1.82s/it]</div>"
            ],
            "text/plain": [
              "<tqdm._fake_ipywidgets.HBox object>"
            ]
          },
          "metadata": {
            "tags": []
          }
        },
        {
          "output_type": "display_data",
          "data": {
            "text/html": [
              "<div style=\"display:flex;flex-direction:row;\"><span>Epoch: 98/200. Iteration: 9/9. Cls loss: 0.11307. Reg loss: 0.26527. Batch loss: 0.37834 Total loss: 0.37788</span><progress style='margin:2px 4px;description_width:initial;' max='9' value='9'></progress>100% 9/9 [00:16&lt;00:00,  1.82s/it]</div>"
            ],
            "text/plain": [
              "<tqdm._fake_ipywidgets.HBox object>"
            ]
          },
          "metadata": {
            "tags": []
          }
        },
        {
          "output_type": "display_data",
          "data": {
            "text/html": [
              "<div style=\"display:flex;flex-direction:row;\"><span>Epoch: 99/200. Iteration: 9/9. Cls loss: 0.11084. Reg loss: 0.27616. Batch loss: 0.38701 Total loss: 0.40790</span><progress style='margin:2px 4px;description_width:initial;' max='9' value='9'></progress>100% 9/9 [00:16&lt;00:00,  1.83s/it]</div>"
            ],
            "text/plain": [
              "<tqdm._fake_ipywidgets.HBox object>"
            ]
          },
          "metadata": {
            "tags": []
          }
        },
        {
          "output_type": "display_data",
          "data": {
            "text/html": [
              "<div style=\"display:flex;flex-direction:row;\"><span>Epoch: 100/200. Iteration: 9/9. Cls loss: 0.09842. Reg loss: 0.24031. Batch loss: 0.33873 Total loss: 0.42726</span><progress style='margin:2px 4px;description_width:initial;' max='9' value='9'></progress>100% 9/9 [00:16&lt;00:00,  1.82s/it]</div>"
            ],
            "text/plain": [
              "<tqdm._fake_ipywidgets.HBox object>"
            ]
          },
          "metadata": {
            "tags": []
          }
        },
        {
          "output_type": "display_data",
          "data": {
            "text/html": [
              "<div style=\"display:flex;flex-direction:row;\"><span>Epoch: 101/200. Iteration: 9/9. Cls loss: 0.08701. Reg loss: 0.19358. Batch loss: 0.28058 Total loss: 0.38889</span><progress style='margin:2px 4px;description_width:initial;' max='9' value='9'></progress>100% 9/9 [00:16&lt;00:00,  1.82s/it]</div>"
            ],
            "text/plain": [
              "<tqdm._fake_ipywidgets.HBox object>"
            ]
          },
          "metadata": {
            "tags": []
          }
        },
        {
          "output_type": "display_data",
          "data": {
            "text/html": [
              "<div style=\"display:flex;flex-direction:row;\"><span>Epoch: 102/200. Iteration: 9/9. Cls loss: 0.11585. Reg loss: 0.35538. Batch loss: 0.47123 Total loss: 0.39827</span><progress style='margin:2px 4px;description_width:initial;' max='9' value='9'></progress>100% 9/9 [00:16&lt;00:00,  1.83s/it]</div>"
            ],
            "text/plain": [
              "<tqdm._fake_ipywidgets.HBox object>"
            ]
          },
          "metadata": {
            "tags": []
          }
        },
        {
          "output_type": "display_data",
          "data": {
            "text/html": [
              "<div style=\"display:flex;flex-direction:row;\"><span>Epoch: 103/200. Iteration: 9/9. Cls loss: 0.11653. Reg loss: 0.31757. Batch loss: 0.43411 Total loss: 0.39102</span><progress style='margin:2px 4px;description_width:initial;' max='9' value='9'></progress>100% 9/9 [00:16&lt;00:00,  1.82s/it]</div>"
            ],
            "text/plain": [
              "<tqdm._fake_ipywidgets.HBox object>"
            ]
          },
          "metadata": {
            "tags": []
          }
        },
        {
          "output_type": "display_data",
          "data": {
            "text/html": [
              "<div style=\"display:flex;flex-direction:row;\"><span>Epoch: 104/200. Iteration: 9/9. Cls loss: 0.16346. Reg loss: 0.39454. Batch loss: 0.55799 Total loss: 0.39957</span><progress style='margin:2px 4px;description_width:initial;' max='9' value='9'></progress>100% 9/9 [00:16&lt;00:00,  1.82s/it]</div>"
            ],
            "text/plain": [
              "<tqdm._fake_ipywidgets.HBox object>"
            ]
          },
          "metadata": {
            "tags": []
          }
        },
        {
          "output_type": "display_data",
          "data": {
            "text/html": [
              "<div style=\"display:flex;flex-direction:row;\"><span>Epoch: 105/200. Iteration: 9/9. Cls loss: 0.10506. Reg loss: 0.25359. Batch loss: 0.35865 Total loss: 0.43037</span><progress style='margin:2px 4px;description_width:initial;' max='9' value='9'></progress>100% 9/9 [00:16&lt;00:00,  1.82s/it]</div>"
            ],
            "text/plain": [
              "<tqdm._fake_ipywidgets.HBox object>"
            ]
          },
          "metadata": {
            "tags": []
          }
        },
        {
          "output_type": "display_data",
          "data": {
            "text/html": [
              "<div style=\"display:flex;flex-direction:row;\"><span>Epoch: 106/200. Iteration: 9/9. Cls loss: 0.08642. Reg loss: 0.18915. Batch loss: 0.27557 Total loss: 0.40023</span><progress style='margin:2px 4px;description_width:initial;' max='9' value='9'></progress>100% 9/9 [00:16&lt;00:00,  1.82s/it]</div>"
            ],
            "text/plain": [
              "<tqdm._fake_ipywidgets.HBox object>"
            ]
          },
          "metadata": {
            "tags": []
          }
        },
        {
          "output_type": "display_data",
          "data": {
            "text/html": [
              "<div style=\"display:flex;flex-direction:row;\"><span>Epoch: 107/200. Iteration: 9/9. Cls loss: 0.13828. Reg loss: 0.33655. Batch loss: 0.47483 Total loss: 0.40031</span><progress style='margin:2px 4px;description_width:initial;' max='9' value='9'></progress>100% 9/9 [00:16&lt;00:00,  1.82s/it]</div>"
            ],
            "text/plain": [
              "<tqdm._fake_ipywidgets.HBox object>"
            ]
          },
          "metadata": {
            "tags": []
          }
        },
        {
          "output_type": "display_data",
          "data": {
            "text/html": [
              "<div style=\"display:flex;flex-direction:row;\"><span>Epoch: 108/200. Iteration: 9/9. Cls loss: 0.16079. Reg loss: 0.34289. Batch loss: 0.50368 Total loss: 0.39986</span><progress style='margin:2px 4px;description_width:initial;' max='9' value='9'></progress>100% 9/9 [00:16&lt;00:00,  1.81s/it]</div>"
            ],
            "text/plain": [
              "<tqdm._fake_ipywidgets.HBox object>"
            ]
          },
          "metadata": {
            "tags": []
          }
        },
        {
          "output_type": "display_data",
          "data": {
            "text/html": [
              "<div style=\"display:flex;flex-direction:row;\"><span>Epoch: 109/200. Iteration: 9/9. Cls loss: 0.12178. Reg loss: 0.28679. Batch loss: 0.40857 Total loss: 0.39214</span><progress style='margin:2px 4px;description_width:initial;' max='9' value='9'></progress>100% 9/9 [00:16&lt;00:00,  1.83s/it]</div>"
            ],
            "text/plain": [
              "<tqdm._fake_ipywidgets.HBox object>"
            ]
          },
          "metadata": {
            "tags": []
          }
        },
        {
          "output_type": "display_data",
          "data": {
            "text/html": [
              "<div style=\"display:flex;flex-direction:row;\"><span>Epoch: 110/200. Iteration: 9/9. Cls loss: 0.08963. Reg loss: 0.25757. Batch loss: 0.34720 Total loss: 0.39241</span><progress style='margin:2px 4px;description_width:initial;' max='9' value='9'></progress>100% 9/9 [00:16&lt;00:00,  1.82s/it]</div>"
            ],
            "text/plain": [
              "<tqdm._fake_ipywidgets.HBox object>"
            ]
          },
          "metadata": {
            "tags": []
          }
        },
        {
          "output_type": "display_data",
          "data": {
            "text/html": [
              "<div style=\"display:flex;flex-direction:row;\"><span>Epoch: 111/200. Iteration: 9/9. Cls loss: 0.16623. Reg loss: 0.39828. Batch loss: 0.56451 Total loss: 0.41353</span><progress style='margin:2px 4px;description_width:initial;' max='9' value='9'></progress>100% 9/9 [00:16&lt;00:00,  1.82s/it]</div>"
            ],
            "text/plain": [
              "<tqdm._fake_ipywidgets.HBox object>"
            ]
          },
          "metadata": {
            "tags": []
          }
        },
        {
          "output_type": "display_data",
          "data": {
            "text/html": [
              "<div style=\"display:flex;flex-direction:row;\"><span>Epoch: 112/200. Iteration: 9/9. Cls loss: 0.16175. Reg loss: 0.35495. Batch loss: 0.51670 Total loss: 0.42236</span><progress style='margin:2px 4px;description_width:initial;' max='9' value='9'></progress>100% 9/9 [00:16&lt;00:00,  1.82s/it]</div>"
            ],
            "text/plain": [
              "<tqdm._fake_ipywidgets.HBox object>"
            ]
          },
          "metadata": {
            "tags": []
          }
        },
        {
          "output_type": "display_data",
          "data": {
            "text/html": [
              "<div style=\"display:flex;flex-direction:row;\"><span>Epoch: 113/200. Iteration: 9/9. Cls loss: 0.10940. Reg loss: 0.30166. Batch loss: 0.41106 Total loss: 0.37923</span><progress style='margin:2px 4px;description_width:initial;' max='9' value='9'></progress>100% 9/9 [00:16&lt;00:00,  1.82s/it]</div>"
            ],
            "text/plain": [
              "<tqdm._fake_ipywidgets.HBox object>"
            ]
          },
          "metadata": {
            "tags": []
          }
        },
        {
          "output_type": "display_data",
          "data": {
            "text/html": [
              "<div style=\"display:flex;flex-direction:row;\"><span>Epoch: 114/200. Iteration: 9/9. Cls loss: 0.13187. Reg loss: 0.33187. Batch loss: 0.46374 Total loss: 0.41461</span><progress style='margin:2px 4px;description_width:initial;' max='9' value='9'></progress>100% 9/9 [00:16&lt;00:00,  1.83s/it]</div>"
            ],
            "text/plain": [
              "<tqdm._fake_ipywidgets.HBox object>"
            ]
          },
          "metadata": {
            "tags": []
          }
        },
        {
          "output_type": "display_data",
          "data": {
            "text/html": [
              "<div style=\"display:flex;flex-direction:row;\"><span>Epoch: 115/200. Iteration: 9/9. Cls loss: 0.16444. Reg loss: 0.37312. Batch loss: 0.53755 Total loss: 0.42846</span><progress style='margin:2px 4px;description_width:initial;' max='9' value='9'></progress>100% 9/9 [00:16&lt;00:00,  1.82s/it]</div>"
            ],
            "text/plain": [
              "<tqdm._fake_ipywidgets.HBox object>"
            ]
          },
          "metadata": {
            "tags": []
          }
        },
        {
          "output_type": "display_data",
          "data": {
            "text/html": [
              "<div style=\"display:flex;flex-direction:row;\"><span>Epoch: 116/200. Iteration: 9/9. Cls loss: 0.12443. Reg loss: 0.32507. Batch loss: 0.44950 Total loss: 0.37976</span><progress style='margin:2px 4px;description_width:initial;' max='9' value='9'></progress>100% 9/9 [00:16&lt;00:00,  1.82s/it]</div>"
            ],
            "text/plain": [
              "<tqdm._fake_ipywidgets.HBox object>"
            ]
          },
          "metadata": {
            "tags": []
          }
        },
        {
          "output_type": "display_data",
          "data": {
            "text/html": [
              "<div style=\"display:flex;flex-direction:row;\"><span>Epoch: 117/200. Iteration: 9/9. Cls loss: 0.09715. Reg loss: 0.26068. Batch loss: 0.35783 Total loss: 0.40157</span><progress style='margin:2px 4px;description_width:initial;' max='9' value='9'></progress>100% 9/9 [00:16&lt;00:00,  1.82s/it]</div>"
            ],
            "text/plain": [
              "<tqdm._fake_ipywidgets.HBox object>"
            ]
          },
          "metadata": {
            "tags": []
          }
        },
        {
          "output_type": "display_data",
          "data": {
            "text/html": [
              "<div style=\"display:flex;flex-direction:row;\"><span>Epoch: 118/200. Iteration: 9/9. Cls loss: 0.09357. Reg loss: 0.24832. Batch loss: 0.34189 Total loss: 0.40537</span><progress style='margin:2px 4px;description_width:initial;' max='9' value='9'></progress>100% 9/9 [00:16&lt;00:00,  1.81s/it]</div>"
            ],
            "text/plain": [
              "<tqdm._fake_ipywidgets.HBox object>"
            ]
          },
          "metadata": {
            "tags": []
          }
        },
        {
          "output_type": "display_data",
          "data": {
            "text/html": [
              "<div style=\"display:flex;flex-direction:row;\"><span>Epoch: 119/200. Iteration: 9/9. Cls loss: 0.07914. Reg loss: 0.20866. Batch loss: 0.28780 Total loss: 0.41796</span><progress style='margin:2px 4px;description_width:initial;' max='9' value='9'></progress>100% 9/9 [00:16&lt;00:00,  1.82s/it]</div>"
            ],
            "text/plain": [
              "<tqdm._fake_ipywidgets.HBox object>"
            ]
          },
          "metadata": {
            "tags": []
          }
        },
        {
          "output_type": "display_data",
          "data": {
            "text/html": [
              "<div style=\"display:flex;flex-direction:row;\"><span>Epoch: 120/200. Iteration: 9/9. Cls loss: 0.11759. Reg loss: 0.28053. Batch loss: 0.39812 Total loss: 0.39005</span><progress style='margin:2px 4px;description_width:initial;' max='9' value='9'></progress>100% 9/9 [00:16&lt;00:00,  1.82s/it]</div>"
            ],
            "text/plain": [
              "<tqdm._fake_ipywidgets.HBox object>"
            ]
          },
          "metadata": {
            "tags": []
          }
        },
        {
          "output_type": "display_data",
          "data": {
            "text/html": [
              "<div style=\"display:flex;flex-direction:row;\"><span>Epoch: 121/200. Iteration: 9/9. Cls loss: 0.10424. Reg loss: 0.23253. Batch loss: 0.33677 Total loss: 0.39765</span><progress style='margin:2px 4px;description_width:initial;' max='9' value='9'></progress>100% 9/9 [00:16&lt;00:00,  1.83s/it]</div>"
            ],
            "text/plain": [
              "<tqdm._fake_ipywidgets.HBox object>"
            ]
          },
          "metadata": {
            "tags": []
          }
        },
        {
          "output_type": "display_data",
          "data": {
            "text/html": [
              "<div style=\"display:flex;flex-direction:row;\"><span>Epoch: 122/200. Iteration: 9/9. Cls loss: 0.10264. Reg loss: 0.30599. Batch loss: 0.40863 Total loss: 0.43045</span><progress style='margin:2px 4px;description_width:initial;' max='9' value='9'></progress>100% 9/9 [00:16&lt;00:00,  1.82s/it]</div>"
            ],
            "text/plain": [
              "<tqdm._fake_ipywidgets.HBox object>"
            ]
          },
          "metadata": {
            "tags": []
          }
        },
        {
          "output_type": "display_data",
          "data": {
            "text/html": [
              "<div style=\"display:flex;flex-direction:row;\"><span>Epoch: 123/200. Iteration: 9/9. Cls loss: 0.10102. Reg loss: 0.25872. Batch loss: 0.35974 Total loss: 0.40149</span><progress style='margin:2px 4px;description_width:initial;' max='9' value='9'></progress>100% 9/9 [00:16&lt;00:00,  1.82s/it]</div>"
            ],
            "text/plain": [
              "<tqdm._fake_ipywidgets.HBox object>"
            ]
          },
          "metadata": {
            "tags": []
          }
        },
        {
          "output_type": "display_data",
          "data": {
            "text/html": [
              "<div style=\"display:flex;flex-direction:row;\"><span>Epoch: 124/200. Iteration: 9/9. Cls loss: 0.17389. Reg loss: 0.43785. Batch loss: 0.61173 Total loss: 0.41355</span><progress style='margin:2px 4px;description_width:initial;' max='9' value='9'></progress>100% 9/9 [00:16&lt;00:00,  1.82s/it]</div>"
            ],
            "text/plain": [
              "<tqdm._fake_ipywidgets.HBox object>"
            ]
          },
          "metadata": {
            "tags": []
          }
        },
        {
          "output_type": "display_data",
          "data": {
            "text/html": [
              "<div style=\"display:flex;flex-direction:row;\"><span>Epoch: 125/200. Iteration: 9/9. Cls loss: 0.21835. Reg loss: 0.45107. Batch loss: 0.66942 Total loss: 0.41160</span><progress style='margin:2px 4px;description_width:initial;' max='9' value='9'></progress>100% 9/9 [00:16&lt;00:00,  1.82s/it]</div>"
            ],
            "text/plain": [
              "<tqdm._fake_ipywidgets.HBox object>"
            ]
          },
          "metadata": {
            "tags": []
          }
        },
        {
          "output_type": "display_data",
          "data": {
            "text/html": [
              "<div style=\"display:flex;flex-direction:row;\"><span>Epoch: 126/200. Iteration: 9/9. Cls loss: 0.09817. Reg loss: 0.25137. Batch loss: 0.34954 Total loss: 0.38459</span><progress style='margin:2px 4px;description_width:initial;' max='9' value='9'></progress>100% 9/9 [00:16&lt;00:00,  1.82s/it]</div>"
            ],
            "text/plain": [
              "<tqdm._fake_ipywidgets.HBox object>"
            ]
          },
          "metadata": {
            "tags": []
          }
        },
        {
          "output_type": "display_data",
          "data": {
            "text/html": [
              "<div style=\"display:flex;flex-direction:row;\"><span>Epoch: 127/200. Iteration: 9/9. Cls loss: 0.09213. Reg loss: 0.24953. Batch loss: 0.34166 Total loss: 0.39468</span><progress style='margin:2px 4px;description_width:initial;' max='9' value='9'></progress>100% 9/9 [00:16&lt;00:00,  1.82s/it]</div>"
            ],
            "text/plain": [
              "<tqdm._fake_ipywidgets.HBox object>"
            ]
          },
          "metadata": {
            "tags": []
          }
        },
        {
          "output_type": "display_data",
          "data": {
            "text/html": [
              "<div style=\"display:flex;flex-direction:row;\"><span>Epoch: 128/200. Iteration: 9/9. Cls loss: 0.13129. Reg loss: 0.34883. Batch loss: 0.48012 Total loss: 0.40044</span><progress style='margin:2px 4px;description_width:initial;' max='9' value='9'></progress>100% 9/9 [00:16&lt;00:00,  1.81s/it]</div>"
            ],
            "text/plain": [
              "<tqdm._fake_ipywidgets.HBox object>"
            ]
          },
          "metadata": {
            "tags": []
          }
        },
        {
          "output_type": "display_data",
          "data": {
            "text/html": [
              "<div style=\"display:flex;flex-direction:row;\"><span>Epoch: 129/200. Iteration: 9/9. Cls loss: 0.10464. Reg loss: 0.27977. Batch loss: 0.38441 Total loss: 0.41308</span><progress style='margin:2px 4px;description_width:initial;' max='9' value='9'></progress>100% 9/9 [00:16&lt;00:00,  1.82s/it]</div>"
            ],
            "text/plain": [
              "<tqdm._fake_ipywidgets.HBox object>"
            ]
          },
          "metadata": {
            "tags": []
          }
        },
        {
          "output_type": "display_data",
          "data": {
            "text/html": [
              "<div style=\"display:flex;flex-direction:row;\"><span>Epoch: 130/200. Iteration: 9/9. Cls loss: 0.18373. Reg loss: 0.38372. Batch loss: 0.56745 Total loss: 0.40875</span><progress style='margin:2px 4px;description_width:initial;' max='9' value='9'></progress>100% 9/9 [00:16&lt;00:00,  1.82s/it]</div>"
            ],
            "text/plain": [
              "<tqdm._fake_ipywidgets.HBox object>"
            ]
          },
          "metadata": {
            "tags": []
          }
        },
        {
          "output_type": "display_data",
          "data": {
            "text/html": [
              "<div style=\"display:flex;flex-direction:row;\"><span>Epoch: 131/200. Iteration: 9/9. Cls loss: 0.06845. Reg loss: 0.19159. Batch loss: 0.26004 Total loss: 0.40355</span><progress style='margin:2px 4px;description_width:initial;' max='9' value='9'></progress>100% 9/9 [00:16&lt;00:00,  1.82s/it]</div>"
            ],
            "text/plain": [
              "<tqdm._fake_ipywidgets.HBox object>"
            ]
          },
          "metadata": {
            "tags": []
          }
        },
        {
          "output_type": "display_data",
          "data": {
            "text/html": [
              "<div style=\"display:flex;flex-direction:row;\"><span>Epoch: 132/200. Iteration: 9/9. Cls loss: 0.17503. Reg loss: 0.37938. Batch loss: 0.55441 Total loss: 0.41163</span><progress style='margin:2px 4px;description_width:initial;' max='9' value='9'></progress>100% 9/9 [00:16&lt;00:00,  1.83s/it]</div>"
            ],
            "text/plain": [
              "<tqdm._fake_ipywidgets.HBox object>"
            ]
          },
          "metadata": {
            "tags": []
          }
        },
        {
          "output_type": "display_data",
          "data": {
            "text/html": [
              "<div style=\"display:flex;flex-direction:row;\"><span>Epoch: 133/200. Iteration: 9/9. Cls loss: 0.09824. Reg loss: 0.27681. Batch loss: 0.37505 Total loss: 0.40204</span><progress style='margin:2px 4px;description_width:initial;' max='9' value='9'></progress>100% 9/9 [00:16&lt;00:00,  1.82s/it]</div>"
            ],
            "text/plain": [
              "<tqdm._fake_ipywidgets.HBox object>"
            ]
          },
          "metadata": {
            "tags": []
          }
        },
        {
          "output_type": "display_data",
          "data": {
            "text/html": [
              "<div style=\"display:flex;flex-direction:row;\"><span>Epoch: 134/200. Iteration: 9/9. Cls loss: 0.11479. Reg loss: 0.27265. Batch loss: 0.38744 Total loss: 0.41606</span><progress style='margin:2px 4px;description_width:initial;' max='9' value='9'></progress>100% 9/9 [00:16&lt;00:00,  1.83s/it]</div>"
            ],
            "text/plain": [
              "<tqdm._fake_ipywidgets.HBox object>"
            ]
          },
          "metadata": {
            "tags": []
          }
        },
        {
          "output_type": "display_data",
          "data": {
            "text/html": [
              "<div style=\"display:flex;flex-direction:row;\"><span>Epoch: 135/200. Iteration: 9/9. Cls loss: 0.08373. Reg loss: 0.22026. Batch loss: 0.30399 Total loss: 0.42094</span><progress style='margin:2px 4px;description_width:initial;' max='9' value='9'></progress>100% 9/9 [00:16&lt;00:00,  1.82s/it]</div>"
            ],
            "text/plain": [
              "<tqdm._fake_ipywidgets.HBox object>"
            ]
          },
          "metadata": {
            "tags": []
          }
        },
        {
          "output_type": "display_data",
          "data": {
            "text/html": [
              "<div style=\"display:flex;flex-direction:row;\"><span>Epoch: 136/200. Iteration: 9/9. Cls loss: 0.12027. Reg loss: 0.33623. Batch loss: 0.45650 Total loss: 0.39287</span><progress style='margin:2px 4px;description_width:initial;' max='9' value='9'></progress>100% 9/9 [00:16&lt;00:00,  1.81s/it]</div>"
            ],
            "text/plain": [
              "<tqdm._fake_ipywidgets.HBox object>"
            ]
          },
          "metadata": {
            "tags": []
          }
        },
        {
          "output_type": "display_data",
          "data": {
            "text/html": [
              "<div style=\"display:flex;flex-direction:row;\"><span>Epoch: 137/200. Iteration: 9/9. Cls loss: 0.13014. Reg loss: 0.34166. Batch loss: 0.47180 Total loss: 0.38797</span><progress style='margin:2px 4px;description_width:initial;' max='9' value='9'></progress>100% 9/9 [00:16&lt;00:00,  1.82s/it]</div>"
            ],
            "text/plain": [
              "<tqdm._fake_ipywidgets.HBox object>"
            ]
          },
          "metadata": {
            "tags": []
          }
        },
        {
          "output_type": "display_data",
          "data": {
            "text/html": [
              "<div style=\"display:flex;flex-direction:row;\"><span>Epoch: 138/200. Iteration: 9/9. Cls loss: 0.07573. Reg loss: 0.21861. Batch loss: 0.29434 Total loss: 0.39530</span><progress style='margin:2px 4px;description_width:initial;' max='9' value='9'></progress>100% 9/9 [00:16&lt;00:00,  1.82s/it]</div>"
            ],
            "text/plain": [
              "<tqdm._fake_ipywidgets.HBox object>"
            ]
          },
          "metadata": {
            "tags": []
          }
        },
        {
          "output_type": "display_data",
          "data": {
            "text/html": [
              "<div style=\"display:flex;flex-direction:row;\"><span>Epoch: 139/200. Iteration: 9/9. Cls loss: 0.08819. Reg loss: 0.25513. Batch loss: 0.34331 Total loss: 0.41163</span><progress style='margin:2px 4px;description_width:initial;' max='9' value='9'></progress>100% 9/9 [00:16&lt;00:00,  1.83s/it]</div>"
            ],
            "text/plain": [
              "<tqdm._fake_ipywidgets.HBox object>"
            ]
          },
          "metadata": {
            "tags": []
          }
        },
        {
          "output_type": "display_data",
          "data": {
            "text/html": [
              "<div style=\"display:flex;flex-direction:row;\"><span>Epoch: 140/200. Iteration: 9/9. Cls loss: 0.12961. Reg loss: 0.30689. Batch loss: 0.43650 Total loss: 0.39980</span><progress style='margin:2px 4px;description_width:initial;' max='9' value='9'></progress>100% 9/9 [00:16&lt;00:00,  1.82s/it]</div>"
            ],
            "text/plain": [
              "<tqdm._fake_ipywidgets.HBox object>"
            ]
          },
          "metadata": {
            "tags": []
          }
        },
        {
          "output_type": "display_data",
          "data": {
            "text/html": [
              "<div style=\"display:flex;flex-direction:row;\"><span>Epoch: 141/200. Iteration: 9/9. Cls loss: 0.08696. Reg loss: 0.23342. Batch loss: 0.32038 Total loss: 0.39030</span><progress style='margin:2px 4px;description_width:initial;' max='9' value='9'></progress>100% 9/9 [00:16&lt;00:00,  1.82s/it]</div>"
            ],
            "text/plain": [
              "<tqdm._fake_ipywidgets.HBox object>"
            ]
          },
          "metadata": {
            "tags": []
          }
        },
        {
          "output_type": "display_data",
          "data": {
            "text/html": [
              "<div style=\"display:flex;flex-direction:row;\"><span>Epoch: 142/200. Iteration: 9/9. Cls loss: 0.09806. Reg loss: 0.29150. Batch loss: 0.38956 Total loss: 0.37270</span><progress style='margin:2px 4px;description_width:initial;' max='9' value='9'></progress>100% 9/9 [00:16&lt;00:00,  1.82s/it]</div>"
            ],
            "text/plain": [
              "<tqdm._fake_ipywidgets.HBox object>"
            ]
          },
          "metadata": {
            "tags": []
          }
        },
        {
          "output_type": "display_data",
          "data": {
            "text/html": [
              "<div style=\"display:flex;flex-direction:row;\"><span>Epoch: 143/200. Iteration: 9/9. Cls loss: 0.10326. Reg loss: 0.22928. Batch loss: 0.33253 Total loss: 0.39649</span><progress style='margin:2px 4px;description_width:initial;' max='9' value='9'></progress>100% 9/9 [00:16&lt;00:00,  1.82s/it]</div>"
            ],
            "text/plain": [
              "<tqdm._fake_ipywidgets.HBox object>"
            ]
          },
          "metadata": {
            "tags": []
          }
        },
        {
          "output_type": "display_data",
          "data": {
            "text/html": [
              "<div style=\"display:flex;flex-direction:row;\"><span>Epoch: 144/200. Iteration: 9/9. Cls loss: 0.08635. Reg loss: 0.22456. Batch loss: 0.31092 Total loss: 0.40666</span><progress style='margin:2px 4px;description_width:initial;' max='9' value='9'></progress>100% 9/9 [00:16&lt;00:00,  1.82s/it]</div>"
            ],
            "text/plain": [
              "<tqdm._fake_ipywidgets.HBox object>"
            ]
          },
          "metadata": {
            "tags": []
          }
        },
        {
          "output_type": "display_data",
          "data": {
            "text/html": [
              "<div style=\"display:flex;flex-direction:row;\"><span>Epoch: 145/200. Iteration: 9/9. Cls loss: 0.10278. Reg loss: 0.25089. Batch loss: 0.35367 Total loss: 0.39767</span><progress style='margin:2px 4px;description_width:initial;' max='9' value='9'></progress>100% 9/9 [00:16&lt;00:00,  1.82s/it]</div>"
            ],
            "text/plain": [
              "<tqdm._fake_ipywidgets.HBox object>"
            ]
          },
          "metadata": {
            "tags": []
          }
        },
        {
          "output_type": "display_data",
          "data": {
            "text/html": [
              "<div style=\"display:flex;flex-direction:row;\"><span>Epoch: 146/200. Iteration: 9/9. Cls loss: 0.12503. Reg loss: 0.31581. Batch loss: 0.44084 Total loss: 0.39989</span><progress style='margin:2px 4px;description_width:initial;' max='9' value='9'></progress>100% 9/9 [00:16&lt;00:00,  1.82s/it]</div>"
            ],
            "text/plain": [
              "<tqdm._fake_ipywidgets.HBox object>"
            ]
          },
          "metadata": {
            "tags": []
          }
        },
        {
          "output_type": "display_data",
          "data": {
            "text/html": [
              "<div style=\"display:flex;flex-direction:row;\"><span>Epoch: 147/200. Iteration: 9/9. Cls loss: 0.10729. Reg loss: 0.27909. Batch loss: 0.38638 Total loss: 0.37327</span><progress style='margin:2px 4px;description_width:initial;' max='9' value='9'></progress>100% 9/9 [00:16&lt;00:00,  1.83s/it]</div>"
            ],
            "text/plain": [
              "<tqdm._fake_ipywidgets.HBox object>"
            ]
          },
          "metadata": {
            "tags": []
          }
        },
        {
          "output_type": "display_data",
          "data": {
            "text/html": [
              "<div style=\"display:flex;flex-direction:row;\"><span>Epoch: 148/200. Iteration: 9/9. Cls loss: 0.13099. Reg loss: 0.32187. Batch loss: 0.45287 Total loss: 0.38800</span><progress style='margin:2px 4px;description_width:initial;' max='9' value='9'></progress>100% 9/9 [00:16&lt;00:00,  1.83s/it]</div>"
            ],
            "text/plain": [
              "<tqdm._fake_ipywidgets.HBox object>"
            ]
          },
          "metadata": {
            "tags": []
          }
        },
        {
          "output_type": "display_data",
          "data": {
            "text/html": [
              "<div style=\"display:flex;flex-direction:row;\"><span>Epoch: 149/200. Iteration: 9/9. Cls loss: 0.08167. Reg loss: 0.25608. Batch loss: 0.33776 Total loss: 0.39389</span><progress style='margin:2px 4px;description_width:initial;' max='9' value='9'></progress>100% 9/9 [00:16&lt;00:00,  1.83s/it]</div>"
            ],
            "text/plain": [
              "<tqdm._fake_ipywidgets.HBox object>"
            ]
          },
          "metadata": {
            "tags": []
          }
        },
        {
          "output_type": "display_data",
          "data": {
            "text/html": [
              "<div style=\"display:flex;flex-direction:row;\"><span>Epoch: 150/200. Iteration: 9/9. Cls loss: 0.09082. Reg loss: 0.26226. Batch loss: 0.35308 Total loss: 0.38684</span><progress style='margin:2px 4px;description_width:initial;' max='9' value='9'></progress>100% 9/9 [00:16&lt;00:00,  1.83s/it]</div>"
            ],
            "text/plain": [
              "<tqdm._fake_ipywidgets.HBox object>"
            ]
          },
          "metadata": {
            "tags": []
          }
        },
        {
          "output_type": "display_data",
          "data": {
            "text/html": [
              "<div style=\"display:flex;flex-direction:row;\"><span>Epoch: 151/200. Iteration: 9/9. Cls loss: 0.09205. Reg loss: 0.27239. Batch loss: 0.36444 Total loss: 0.40009</span><progress style='margin:2px 4px;description_width:initial;' max='9' value='9'></progress>100% 9/9 [00:16&lt;00:00,  1.82s/it]</div>"
            ],
            "text/plain": [
              "<tqdm._fake_ipywidgets.HBox object>"
            ]
          },
          "metadata": {
            "tags": []
          }
        },
        {
          "output_type": "display_data",
          "data": {
            "text/html": [
              "<div style=\"display:flex;flex-direction:row;\"><span>Epoch: 152/200. Iteration: 9/9. Cls loss: 0.10969. Reg loss: 0.26495. Batch loss: 0.37464 Total loss: 0.39291</span><progress style='margin:2px 4px;description_width:initial;' max='9' value='9'></progress>100% 9/9 [00:16&lt;00:00,  1.83s/it]</div>"
            ],
            "text/plain": [
              "<tqdm._fake_ipywidgets.HBox object>"
            ]
          },
          "metadata": {
            "tags": []
          }
        },
        {
          "output_type": "display_data",
          "data": {
            "text/html": [
              "<div style=\"display:flex;flex-direction:row;\"><span>Epoch: 153/200. Iteration: 9/9. Cls loss: 0.10521. Reg loss: 0.27380. Batch loss: 0.37901 Total loss: 0.40120</span><progress style='margin:2px 4px;description_width:initial;' max='9' value='9'></progress>100% 9/9 [00:16&lt;00:00,  1.82s/it]</div>"
            ],
            "text/plain": [
              "<tqdm._fake_ipywidgets.HBox object>"
            ]
          },
          "metadata": {
            "tags": []
          }
        },
        {
          "output_type": "display_data",
          "data": {
            "text/html": [
              "<div style=\"display:flex;flex-direction:row;\"><span>Epoch: 154/200. Iteration: 9/9. Cls loss: 0.10046. Reg loss: 0.26540. Batch loss: 0.36586 Total loss: 0.39615</span><progress style='margin:2px 4px;description_width:initial;' max='9' value='9'></progress>100% 9/9 [00:16&lt;00:00,  1.83s/it]</div>"
            ],
            "text/plain": [
              "<tqdm._fake_ipywidgets.HBox object>"
            ]
          },
          "metadata": {
            "tags": []
          }
        },
        {
          "output_type": "display_data",
          "data": {
            "text/html": [
              "<div style=\"display:flex;flex-direction:row;\"><span>Epoch: 155/200. Iteration: 9/9. Cls loss: 0.14189. Reg loss: 0.32395. Batch loss: 0.46584 Total loss: 0.41442</span><progress style='margin:2px 4px;description_width:initial;' max='9' value='9'></progress>100% 9/9 [00:16&lt;00:00,  1.82s/it]</div>"
            ],
            "text/plain": [
              "<tqdm._fake_ipywidgets.HBox object>"
            ]
          },
          "metadata": {
            "tags": []
          }
        },
        {
          "output_type": "display_data",
          "data": {
            "text/html": [
              "<div style=\"display:flex;flex-direction:row;\"><span>Epoch: 156/200. Iteration: 9/9. Cls loss: 0.19598. Reg loss: 0.38652. Batch loss: 0.58250 Total loss: 0.38259</span><progress style='margin:2px 4px;description_width:initial;' max='9' value='9'></progress>100% 9/9 [00:16&lt;00:00,  1.82s/it]</div>"
            ],
            "text/plain": [
              "<tqdm._fake_ipywidgets.HBox object>"
            ]
          },
          "metadata": {
            "tags": []
          }
        },
        {
          "output_type": "display_data",
          "data": {
            "text/html": [
              "<div style=\"display:flex;flex-direction:row;\"><span>Epoch: 157/200. Iteration: 9/9. Cls loss: 0.12045. Reg loss: 0.25196. Batch loss: 0.37241 Total loss: 0.40490</span><progress style='margin:2px 4px;description_width:initial;' max='9' value='9'></progress>100% 9/9 [00:16&lt;00:00,  1.83s/it]</div>"
            ],
            "text/plain": [
              "<tqdm._fake_ipywidgets.HBox object>"
            ]
          },
          "metadata": {
            "tags": []
          }
        },
        {
          "output_type": "display_data",
          "data": {
            "text/html": [
              "<div style=\"display:flex;flex-direction:row;\"><span>Epoch: 158/200. Iteration: 9/9. Cls loss: 0.13098. Reg loss: 0.32714. Batch loss: 0.45813 Total loss: 0.39972</span><progress style='margin:2px 4px;description_width:initial;' max='9' value='9'></progress>100% 9/9 [00:16&lt;00:00,  1.82s/it]</div>"
            ],
            "text/plain": [
              "<tqdm._fake_ipywidgets.HBox object>"
            ]
          },
          "metadata": {
            "tags": []
          }
        },
        {
          "output_type": "display_data",
          "data": {
            "text/html": [
              "<div style=\"display:flex;flex-direction:row;\"><span>Epoch: 159/200. Iteration: 9/9. Cls loss: 0.12239. Reg loss: 0.31441. Batch loss: 0.43680 Total loss: 0.39447</span><progress style='margin:2px 4px;description_width:initial;' max='9' value='9'></progress>100% 9/9 [00:16&lt;00:00,  1.83s/it]</div>"
            ],
            "text/plain": [
              "<tqdm._fake_ipywidgets.HBox object>"
            ]
          },
          "metadata": {
            "tags": []
          }
        },
        {
          "output_type": "display_data",
          "data": {
            "text/html": [
              "<div style=\"display:flex;flex-direction:row;\"><span>Epoch: 160/200. Iteration: 9/9. Cls loss: 0.09858. Reg loss: 0.23597. Batch loss: 0.33455 Total loss: 0.39742</span><progress style='margin:2px 4px;description_width:initial;' max='9' value='9'></progress>100% 9/9 [00:16&lt;00:00,  1.81s/it]</div>"
            ],
            "text/plain": [
              "<tqdm._fake_ipywidgets.HBox object>"
            ]
          },
          "metadata": {
            "tags": []
          }
        },
        {
          "output_type": "display_data",
          "data": {
            "text/html": [
              "<div style=\"display:flex;flex-direction:row;\"><span>Epoch: 161/200. Iteration: 9/9. Cls loss: 0.12033. Reg loss: 0.33219. Batch loss: 0.45252 Total loss: 0.42446</span><progress style='margin:2px 4px;description_width:initial;' max='9' value='9'></progress>100% 9/9 [00:16&lt;00:00,  1.82s/it]</div>"
            ],
            "text/plain": [
              "<tqdm._fake_ipywidgets.HBox object>"
            ]
          },
          "metadata": {
            "tags": []
          }
        },
        {
          "output_type": "display_data",
          "data": {
            "text/html": [
              "<div style=\"display:flex;flex-direction:row;\"><span>Epoch: 162/200. Iteration: 9/9. Cls loss: 0.10598. Reg loss: 0.28941. Batch loss: 0.39539 Total loss: 0.39657</span><progress style='margin:2px 4px;description_width:initial;' max='9' value='9'></progress>100% 9/9 [00:16&lt;00:00,  1.82s/it]</div>"
            ],
            "text/plain": [
              "<tqdm._fake_ipywidgets.HBox object>"
            ]
          },
          "metadata": {
            "tags": []
          }
        },
        {
          "output_type": "display_data",
          "data": {
            "text/html": [
              "<div style=\"display:flex;flex-direction:row;\"><span>Epoch: 163/200. Iteration: 9/9. Cls loss: 0.11767. Reg loss: 0.25331. Batch loss: 0.37098 Total loss: 0.37568</span><progress style='margin:2px 4px;description_width:initial;' max='9' value='9'></progress>100% 9/9 [00:16&lt;00:00,  1.83s/it]</div>"
            ],
            "text/plain": [
              "<tqdm._fake_ipywidgets.HBox object>"
            ]
          },
          "metadata": {
            "tags": []
          }
        },
        {
          "output_type": "display_data",
          "data": {
            "text/html": [
              "<div style=\"display:flex;flex-direction:row;\"><span>Epoch: 164/200. Iteration: 9/9. Cls loss: 0.11035. Reg loss: 0.22605. Batch loss: 0.33641 Total loss: 0.38348</span><progress style='margin:2px 4px;description_width:initial;' max='9' value='9'></progress>100% 9/9 [00:16&lt;00:00,  1.82s/it]</div>"
            ],
            "text/plain": [
              "<tqdm._fake_ipywidgets.HBox object>"
            ]
          },
          "metadata": {
            "tags": []
          }
        },
        {
          "output_type": "display_data",
          "data": {
            "text/html": [
              "<div style=\"display:flex;flex-direction:row;\"><span>Epoch: 165/200. Iteration: 9/9. Cls loss: 0.13142. Reg loss: 0.34095. Batch loss: 0.47238 Total loss: 0.40570</span><progress style='margin:2px 4px;description_width:initial;' max='9' value='9'></progress>100% 9/9 [00:16&lt;00:00,  1.82s/it]</div>"
            ],
            "text/plain": [
              "<tqdm._fake_ipywidgets.HBox object>"
            ]
          },
          "metadata": {
            "tags": []
          }
        },
        {
          "output_type": "display_data",
          "data": {
            "text/html": [
              "<div style=\"display:flex;flex-direction:row;\"><span>Epoch: 166/200. Iteration: 9/9. Cls loss: 0.06435. Reg loss: 0.21833. Batch loss: 0.28269 Total loss: 0.40426</span><progress style='margin:2px 4px;description_width:initial;' max='9' value='9'></progress>100% 9/9 [00:16&lt;00:00,  1.83s/it]</div>"
            ],
            "text/plain": [
              "<tqdm._fake_ipywidgets.HBox object>"
            ]
          },
          "metadata": {
            "tags": []
          }
        },
        {
          "output_type": "display_data",
          "data": {
            "text/html": [
              "<div style=\"display:flex;flex-direction:row;\"><span>Epoch: 167/200. Iteration: 9/9. Cls loss: 0.11575. Reg loss: 0.26226. Batch loss: 0.37801 Total loss: 0.39819</span><progress style='margin:2px 4px;description_width:initial;' max='9' value='9'></progress>100% 9/9 [00:16&lt;00:00,  1.83s/it]</div>"
            ],
            "text/plain": [
              "<tqdm._fake_ipywidgets.HBox object>"
            ]
          },
          "metadata": {
            "tags": []
          }
        },
        {
          "output_type": "display_data",
          "data": {
            "text/html": [
              "<div style=\"display:flex;flex-direction:row;\"><span>Epoch: 168/200. Iteration: 9/9. Cls loss: 0.08574. Reg loss: 0.19657. Batch loss: 0.28231 Total loss: 0.39800</span><progress style='margin:2px 4px;description_width:initial;' max='9' value='9'></progress>100% 9/9 [00:16&lt;00:00,  1.83s/it]</div>"
            ],
            "text/plain": [
              "<tqdm._fake_ipywidgets.HBox object>"
            ]
          },
          "metadata": {
            "tags": []
          }
        },
        {
          "output_type": "display_data",
          "data": {
            "text/html": [
              "<div style=\"display:flex;flex-direction:row;\"><span>Epoch: 169/200. Iteration: 9/9. Cls loss: 0.15150. Reg loss: 0.36960. Batch loss: 0.52109 Total loss: 0.39189</span><progress style='margin:2px 4px;description_width:initial;' max='9' value='9'></progress>100% 9/9 [00:16&lt;00:00,  1.82s/it]</div>"
            ],
            "text/plain": [
              "<tqdm._fake_ipywidgets.HBox object>"
            ]
          },
          "metadata": {
            "tags": []
          }
        },
        {
          "output_type": "display_data",
          "data": {
            "text/html": [
              "<div style=\"display:flex;flex-direction:row;\"><span>Epoch: 170/200. Iteration: 9/9. Cls loss: 0.09531. Reg loss: 0.25044. Batch loss: 0.34575 Total loss: 0.38904</span><progress style='margin:2px 4px;description_width:initial;' max='9' value='9'></progress>100% 9/9 [00:16&lt;00:00,  1.82s/it]</div>"
            ],
            "text/plain": [
              "<tqdm._fake_ipywidgets.HBox object>"
            ]
          },
          "metadata": {
            "tags": []
          }
        },
        {
          "output_type": "display_data",
          "data": {
            "text/html": [
              "<div style=\"display:flex;flex-direction:row;\"><span>Epoch: 171/200. Iteration: 9/9. Cls loss: 0.15192. Reg loss: 0.34009. Batch loss: 0.49201 Total loss: 0.39327</span><progress style='margin:2px 4px;description_width:initial;' max='9' value='9'></progress>100% 9/9 [00:16&lt;00:00,  1.83s/it]</div>"
            ],
            "text/plain": [
              "<tqdm._fake_ipywidgets.HBox object>"
            ]
          },
          "metadata": {
            "tags": []
          }
        },
        {
          "output_type": "display_data",
          "data": {
            "text/html": [
              "<div style=\"display:flex;flex-direction:row;\"><span>Epoch: 172/200. Iteration: 9/9. Cls loss: 0.10519. Reg loss: 0.25154. Batch loss: 0.35672 Total loss: 0.41043</span><progress style='margin:2px 4px;description_width:initial;' max='9' value='9'></progress>100% 9/9 [00:16&lt;00:00,  1.83s/it]</div>"
            ],
            "text/plain": [
              "<tqdm._fake_ipywidgets.HBox object>"
            ]
          },
          "metadata": {
            "tags": []
          }
        },
        {
          "output_type": "display_data",
          "data": {
            "text/html": [
              "<div style=\"display:flex;flex-direction:row;\"><span>Epoch: 173/200. Iteration: 9/9. Cls loss: 0.13076. Reg loss: 0.31705. Batch loss: 0.44781 Total loss: 0.41105</span><progress style='margin:2px 4px;description_width:initial;' max='9' value='9'></progress>100% 9/9 [00:16&lt;00:00,  1.83s/it]</div>"
            ],
            "text/plain": [
              "<tqdm._fake_ipywidgets.HBox object>"
            ]
          },
          "metadata": {
            "tags": []
          }
        },
        {
          "output_type": "display_data",
          "data": {
            "text/html": [
              "<div style=\"display:flex;flex-direction:row;\"><span>Epoch: 174/200. Iteration: 9/9. Cls loss: 0.09769. Reg loss: 0.24599. Batch loss: 0.34368 Total loss: 0.40974</span><progress style='margin:2px 4px;description_width:initial;' max='9' value='9'></progress>100% 9/9 [00:16&lt;00:00,  1.82s/it]</div>"
            ],
            "text/plain": [
              "<tqdm._fake_ipywidgets.HBox object>"
            ]
          },
          "metadata": {
            "tags": []
          }
        },
        {
          "output_type": "display_data",
          "data": {
            "text/html": [
              "<div style=\"display:flex;flex-direction:row;\"><span>Epoch: 175/200. Iteration: 9/9. Cls loss: 0.11549. Reg loss: 0.28694. Batch loss: 0.40242 Total loss: 0.41966</span><progress style='margin:2px 4px;description_width:initial;' max='9' value='9'></progress>100% 9/9 [00:16&lt;00:00,  1.83s/it]</div>"
            ],
            "text/plain": [
              "<tqdm._fake_ipywidgets.HBox object>"
            ]
          },
          "metadata": {
            "tags": []
          }
        },
        {
          "output_type": "display_data",
          "data": {
            "text/html": [
              "<div style=\"display:flex;flex-direction:row;\"><span>Epoch: 176/200. Iteration: 9/9. Cls loss: 0.15418. Reg loss: 0.35305. Batch loss: 0.50724 Total loss: 0.41024</span><progress style='margin:2px 4px;description_width:initial;' max='9' value='9'></progress>100% 9/9 [00:16&lt;00:00,  1.83s/it]</div>"
            ],
            "text/plain": [
              "<tqdm._fake_ipywidgets.HBox object>"
            ]
          },
          "metadata": {
            "tags": []
          }
        },
        {
          "output_type": "display_data",
          "data": {
            "text/html": [
              "<div style=\"display:flex;flex-direction:row;\"><span>Epoch: 177/200. Iteration: 9/9. Cls loss: 0.12806. Reg loss: 0.30469. Batch loss: 0.43274 Total loss: 0.38845</span><progress style='margin:2px 4px;description_width:initial;' max='9' value='9'></progress>100% 9/9 [00:16&lt;00:00,  1.82s/it]</div>"
            ],
            "text/plain": [
              "<tqdm._fake_ipywidgets.HBox object>"
            ]
          },
          "metadata": {
            "tags": []
          }
        },
        {
          "output_type": "display_data",
          "data": {
            "text/html": [
              "<div style=\"display:flex;flex-direction:row;\"><span>Epoch: 178/200. Iteration: 9/9. Cls loss: 0.14507. Reg loss: 0.25276. Batch loss: 0.39783 Total loss: 0.40298</span><progress style='margin:2px 4px;description_width:initial;' max='9' value='9'></progress>100% 9/9 [00:16&lt;00:00,  1.82s/it]</div>"
            ],
            "text/plain": [
              "<tqdm._fake_ipywidgets.HBox object>"
            ]
          },
          "metadata": {
            "tags": []
          }
        },
        {
          "output_type": "display_data",
          "data": {
            "text/html": [
              "<div style=\"display:flex;flex-direction:row;\"><span>Epoch: 179/200. Iteration: 9/9. Cls loss: 0.09142. Reg loss: 0.24362. Batch loss: 0.33504 Total loss: 0.40918</span><progress style='margin:2px 4px;description_width:initial;' max='9' value='9'></progress>100% 9/9 [00:16&lt;00:00,  1.82s/it]</div>"
            ],
            "text/plain": [
              "<tqdm._fake_ipywidgets.HBox object>"
            ]
          },
          "metadata": {
            "tags": []
          }
        },
        {
          "output_type": "display_data",
          "data": {
            "text/html": [
              "<div style=\"display:flex;flex-direction:row;\"><span>Epoch: 180/200. Iteration: 9/9. Cls loss: 0.12020. Reg loss: 0.26040. Batch loss: 0.38060 Total loss: 0.40454</span><progress style='margin:2px 4px;description_width:initial;' max='9' value='9'></progress>100% 9/9 [00:16&lt;00:00,  1.81s/it]</div>"
            ],
            "text/plain": [
              "<tqdm._fake_ipywidgets.HBox object>"
            ]
          },
          "metadata": {
            "tags": []
          }
        },
        {
          "output_type": "display_data",
          "data": {
            "text/html": [
              "<div style=\"display:flex;flex-direction:row;\"><span>Epoch: 181/200. Iteration: 9/9. Cls loss: 0.09233. Reg loss: 0.27320. Batch loss: 0.36553 Total loss: 0.39314</span><progress style='margin:2px 4px;description_width:initial;' max='9' value='9'></progress>100% 9/9 [00:16&lt;00:00,  1.82s/it]</div>"
            ],
            "text/plain": [
              "<tqdm._fake_ipywidgets.HBox object>"
            ]
          },
          "metadata": {
            "tags": []
          }
        },
        {
          "output_type": "display_data",
          "data": {
            "text/html": [
              "<div style=\"display:flex;flex-direction:row;\"><span>Epoch: 182/200. Iteration: 9/9. Cls loss: 0.13499. Reg loss: 0.26718. Batch loss: 0.40217 Total loss: 0.41054</span><progress style='margin:2px 4px;description_width:initial;' max='9' value='9'></progress>100% 9/9 [00:16&lt;00:00,  1.82s/it]</div>"
            ],
            "text/plain": [
              "<tqdm._fake_ipywidgets.HBox object>"
            ]
          },
          "metadata": {
            "tags": []
          }
        },
        {
          "output_type": "display_data",
          "data": {
            "text/html": [
              "<div style=\"display:flex;flex-direction:row;\"><span>Epoch: 183/200. Iteration: 9/9. Cls loss: 0.15201. Reg loss: 0.36653. Batch loss: 0.51854 Total loss: 0.40554</span><progress style='margin:2px 4px;description_width:initial;' max='9' value='9'></progress>100% 9/9 [00:16&lt;00:00,  1.82s/it]</div>"
            ],
            "text/plain": [
              "<tqdm._fake_ipywidgets.HBox object>"
            ]
          },
          "metadata": {
            "tags": []
          }
        },
        {
          "output_type": "display_data",
          "data": {
            "text/html": [
              "<div style=\"display:flex;flex-direction:row;\"><span>Epoch: 184/200. Iteration: 9/9. Cls loss: 0.13232. Reg loss: 0.33472. Batch loss: 0.46704 Total loss: 0.37328</span><progress style='margin:2px 4px;description_width:initial;' max='9' value='9'></progress>100% 9/9 [00:16&lt;00:00,  1.82s/it]</div>"
            ],
            "text/plain": [
              "<tqdm._fake_ipywidgets.HBox object>"
            ]
          },
          "metadata": {
            "tags": []
          }
        },
        {
          "output_type": "display_data",
          "data": {
            "text/html": [
              "<div style=\"display:flex;flex-direction:row;\"><span>Epoch: 185/200. Iteration: 9/9. Cls loss: 0.09683. Reg loss: 0.27845. Batch loss: 0.37528 Total loss: 0.40767</span><progress style='margin:2px 4px;description_width:initial;' max='9' value='9'></progress>100% 9/9 [00:16&lt;00:00,  1.83s/it]</div>"
            ],
            "text/plain": [
              "<tqdm._fake_ipywidgets.HBox object>"
            ]
          },
          "metadata": {
            "tags": []
          }
        },
        {
          "output_type": "display_data",
          "data": {
            "text/html": [
              "<div style=\"display:flex;flex-direction:row;\"><span>Epoch: 186/200. Iteration: 9/9. Cls loss: 0.11815. Reg loss: 0.31574. Batch loss: 0.43389 Total loss: 0.37907</span><progress style='margin:2px 4px;description_width:initial;' max='9' value='9'></progress>100% 9/9 [00:16&lt;00:00,  1.82s/it]</div>"
            ],
            "text/plain": [
              "<tqdm._fake_ipywidgets.HBox object>"
            ]
          },
          "metadata": {
            "tags": []
          }
        },
        {
          "output_type": "display_data",
          "data": {
            "text/html": [
              "<div style=\"display:flex;flex-direction:row;\"><span>Epoch: 187/200. Iteration: 9/9. Cls loss: 0.10428. Reg loss: 0.27377. Batch loss: 0.37805 Total loss: 0.40644</span><progress style='margin:2px 4px;description_width:initial;' max='9' value='9'></progress>100% 9/9 [00:16&lt;00:00,  1.83s/it]</div>"
            ],
            "text/plain": [
              "<tqdm._fake_ipywidgets.HBox object>"
            ]
          },
          "metadata": {
            "tags": []
          }
        },
        {
          "output_type": "display_data",
          "data": {
            "text/html": [
              "<div style=\"display:flex;flex-direction:row;\"><span>Epoch: 188/200. Iteration: 9/9. Cls loss: 0.09913. Reg loss: 0.25812. Batch loss: 0.35725 Total loss: 0.39925</span><progress style='margin:2px 4px;description_width:initial;' max='9' value='9'></progress>100% 9/9 [00:16&lt;00:00,  1.82s/it]</div>"
            ],
            "text/plain": [
              "<tqdm._fake_ipywidgets.HBox object>"
            ]
          },
          "metadata": {
            "tags": []
          }
        },
        {
          "output_type": "display_data",
          "data": {
            "text/html": [
              "<div style=\"display:flex;flex-direction:row;\"><span>Epoch: 189/200. Iteration: 9/9. Cls loss: 0.15339. Reg loss: 0.39644. Batch loss: 0.54983 Total loss: 0.40896</span><progress style='margin:2px 4px;description_width:initial;' max='9' value='9'></progress>100% 9/9 [00:16&lt;00:00,  1.82s/it]</div>"
            ],
            "text/plain": [
              "<tqdm._fake_ipywidgets.HBox object>"
            ]
          },
          "metadata": {
            "tags": []
          }
        },
        {
          "output_type": "display_data",
          "data": {
            "text/html": [
              "<div style=\"display:flex;flex-direction:row;\"><span>Epoch: 190/200. Iteration: 9/9. Cls loss: 0.13379. Reg loss: 0.21015. Batch loss: 0.34393 Total loss: 0.39911</span><progress style='margin:2px 4px;description_width:initial;' max='9' value='9'></progress>100% 9/9 [00:16&lt;00:00,  1.82s/it]</div>"
            ],
            "text/plain": [
              "<tqdm._fake_ipywidgets.HBox object>"
            ]
          },
          "metadata": {
            "tags": []
          }
        },
        {
          "output_type": "display_data",
          "data": {
            "text/html": [
              "<div style=\"display:flex;flex-direction:row;\"><span>Epoch: 191/200. Iteration: 9/9. Cls loss: 0.18889. Reg loss: 0.40397. Batch loss: 0.59286 Total loss: 0.40932</span><progress style='margin:2px 4px;description_width:initial;' max='9' value='9'></progress>100% 9/9 [00:16&lt;00:00,  1.83s/it]</div>"
            ],
            "text/plain": [
              "<tqdm._fake_ipywidgets.HBox object>"
            ]
          },
          "metadata": {
            "tags": []
          }
        },
        {
          "output_type": "display_data",
          "data": {
            "text/html": [
              "<div style=\"display:flex;flex-direction:row;\"><span>Epoch: 192/200. Iteration: 9/9. Cls loss: 0.09334. Reg loss: 0.25435. Batch loss: 0.34769 Total loss: 0.37546</span><progress style='margin:2px 4px;description_width:initial;' max='9' value='9'></progress>100% 9/9 [00:16&lt;00:00,  1.83s/it]</div>"
            ],
            "text/plain": [
              "<tqdm._fake_ipywidgets.HBox object>"
            ]
          },
          "metadata": {
            "tags": []
          }
        },
        {
          "output_type": "display_data",
          "data": {
            "text/html": [
              "<div style=\"display:flex;flex-direction:row;\"><span>Epoch: 193/200. Iteration: 9/9. Cls loss: 0.12280. Reg loss: 0.30149. Batch loss: 0.42430 Total loss: 0.41342</span><progress style='margin:2px 4px;description_width:initial;' max='9' value='9'></progress>100% 9/9 [00:16&lt;00:00,  1.82s/it]</div>"
            ],
            "text/plain": [
              "<tqdm._fake_ipywidgets.HBox object>"
            ]
          },
          "metadata": {
            "tags": []
          }
        },
        {
          "output_type": "display_data",
          "data": {
            "text/html": [
              "<div style=\"display:flex;flex-direction:row;\"><span>Epoch: 194/200. Iteration: 9/9. Cls loss: 0.07542. Reg loss: 0.15474. Batch loss: 0.23016 Total loss: 0.37923</span><progress style='margin:2px 4px;description_width:initial;' max='9' value='9'></progress>100% 9/9 [00:16&lt;00:00,  1.82s/it]</div>"
            ],
            "text/plain": [
              "<tqdm._fake_ipywidgets.HBox object>"
            ]
          },
          "metadata": {
            "tags": []
          }
        },
        {
          "output_type": "display_data",
          "data": {
            "text/html": [
              "<div style=\"display:flex;flex-direction:row;\"><span>Epoch: 195/200. Iteration: 9/9. Cls loss: 0.08849. Reg loss: 0.26212. Batch loss: 0.35061 Total loss: 0.41638</span><progress style='margin:2px 4px;description_width:initial;' max='9' value='9'></progress>100% 9/9 [00:16&lt;00:00,  1.82s/it]</div>"
            ],
            "text/plain": [
              "<tqdm._fake_ipywidgets.HBox object>"
            ]
          },
          "metadata": {
            "tags": []
          }
        },
        {
          "output_type": "display_data",
          "data": {
            "text/html": [
              "<div style=\"display:flex;flex-direction:row;\"><span>Epoch: 196/200. Iteration: 9/9. Cls loss: 0.10849. Reg loss: 0.31340. Batch loss: 0.42189 Total loss: 0.40985</span><progress style='margin:2px 4px;description_width:initial;' max='9' value='9'></progress>100% 9/9 [00:16&lt;00:00,  1.82s/it]</div>"
            ],
            "text/plain": [
              "<tqdm._fake_ipywidgets.HBox object>"
            ]
          },
          "metadata": {
            "tags": []
          }
        },
        {
          "output_type": "display_data",
          "data": {
            "text/html": [
              "<div style=\"display:flex;flex-direction:row;\"><span>Epoch: 197/200. Iteration: 9/9. Cls loss: 0.15526. Reg loss: 0.34549. Batch loss: 0.50075 Total loss: 0.40247</span><progress style='margin:2px 4px;description_width:initial;' max='9' value='9'></progress>100% 9/9 [00:16&lt;00:00,  1.82s/it]</div>"
            ],
            "text/plain": [
              "<tqdm._fake_ipywidgets.HBox object>"
            ]
          },
          "metadata": {
            "tags": []
          }
        },
        {
          "output_type": "display_data",
          "data": {
            "text/html": [
              "<div style=\"display:flex;flex-direction:row;\"><span>Epoch: 198/200. Iteration: 9/9. Cls loss: 0.12051. Reg loss: 0.30275. Batch loss: 0.42326 Total loss: 0.38942</span><progress style='margin:2px 4px;description_width:initial;' max='9' value='9'></progress>100% 9/9 [00:16&lt;00:00,  1.82s/it]</div>"
            ],
            "text/plain": [
              "<tqdm._fake_ipywidgets.HBox object>"
            ]
          },
          "metadata": {
            "tags": []
          }
        },
        {
          "output_type": "display_data",
          "data": {
            "text/html": [
              "<div style=\"display:flex;flex-direction:row;\"><span>Epoch: 199/200. Iteration: 9/9. Cls loss: 0.08978. Reg loss: 0.24460. Batch loss: 0.33438 Total loss: 0.39427</span><progress style='margin:2px 4px;description_width:initial;' max='9' value='9'></progress>100% 9/9 [00:16&lt;00:00,  1.83s/it]</div>"
            ],
            "text/plain": [
              "<tqdm._fake_ipywidgets.HBox object>"
            ]
          },
          "metadata": {
            "tags": []
          }
        },
        {
          "output_type": "display_data",
          "data": {
            "text/html": [
              "<div style=\"display:flex;flex-direction:row;\"><span>Epoch: 200/200. Iteration: 9/9. Cls loss: 0.12483. Reg loss: 0.26520. Batch loss: 0.39003 Total loss: 0.41082</span><progress style='margin:2px 4px;description_width:initial;' max='9' value='9'></progress>100% 9/9 [00:16&lt;00:00,  1.83s/it]</div>"
            ],
            "text/plain": [
              "<tqdm._fake_ipywidgets.HBox object>"
            ]
          },
          "metadata": {
            "tags": []
          }
        },
        {
          "output_type": "stream",
          "text": [
            "CPU times: user 1h 3min 9s, sys: 23min 59s, total: 1h 27min 9s\n",
            "Wall time: 1h 29min 45s\n"
          ],
          "name": "stdout"
        }
      ]
    },
    {
      "cell_type": "markdown",
      "metadata": {
        "id": "1cj9gst-hRDg"
      },
      "source": [
        "# Inference"
      ]
    },
    {
      "cell_type": "code",
      "metadata": {
        "colab": {
          "base_uri": "https://localhost:8080/",
          "height": 17
        },
        "id": "o0X_KdTBirYQ",
        "outputId": "94b7dfef-99c1-4783-d27c-9c1b70060c77"
      },
      "source": [
        "from google.colab import files\n",
        "files.download('/content/trained/signatrix_efficientdet_coco.pth')"
      ],
      "execution_count": null,
      "outputs": [
        {
          "output_type": "display_data",
          "data": {
            "application/javascript": [
              "\n",
              "    async function download(id, filename, size) {\n",
              "      if (!google.colab.kernel.accessAllowed) {\n",
              "        return;\n",
              "      }\n",
              "      const div = document.createElement('div');\n",
              "      const label = document.createElement('label');\n",
              "      label.textContent = `Downloading \"${filename}\": `;\n",
              "      div.appendChild(label);\n",
              "      const progress = document.createElement('progress');\n",
              "      progress.max = size;\n",
              "      div.appendChild(progress);\n",
              "      document.body.appendChild(div);\n",
              "\n",
              "      const buffers = [];\n",
              "      let downloaded = 0;\n",
              "\n",
              "      const channel = await google.colab.kernel.comms.open(id);\n",
              "      // Send a message to notify the kernel that we're ready.\n",
              "      channel.send({})\n",
              "\n",
              "      for await (const message of channel.messages) {\n",
              "        // Send a message to notify the kernel that we're ready.\n",
              "        channel.send({})\n",
              "        if (message.buffers) {\n",
              "          for (const buffer of message.buffers) {\n",
              "            buffers.push(buffer);\n",
              "            downloaded += buffer.byteLength;\n",
              "            progress.value = downloaded;\n",
              "          }\n",
              "        }\n",
              "      }\n",
              "      const blob = new Blob(buffers, {type: 'application/binary'});\n",
              "      const a = document.createElement('a');\n",
              "      a.href = window.URL.createObjectURL(blob);\n",
              "      a.download = filename;\n",
              "      div.appendChild(a);\n",
              "      a.click();\n",
              "      div.remove();\n",
              "    }\n",
              "  "
            ],
            "text/plain": [
              "<IPython.core.display.Javascript object>"
            ]
          },
          "metadata": {
            "tags": []
          }
        },
        {
          "output_type": "display_data",
          "data": {
            "application/javascript": [
              "download(\"download_ea7a9280-9f5c-41f3-9e0e-6569e7665366\", \"signatrix_efficientdet_coco.pth\", 16796715)"
            ],
            "text/plain": [
              "<IPython.core.display.Javascript object>"
            ]
          },
          "metadata": {
            "tags": []
          }
        }
      ]
    },
    {
      "cell_type": "code",
      "metadata": {
        "id": "ZC263x69sfai"
      },
      "source": [
        "import os\n",
        "import sys\n",
        "sys.path.append(\"Monk_Object_Detection/4_efficientdet/lib/\");"
      ],
      "execution_count": null,
      "outputs": []
    },
    {
      "cell_type": "code",
      "metadata": {
        "id": "IsxWRWL8tcgP"
      },
      "source": [
        "from infer_detector import Infer"
      ],
      "execution_count": null,
      "outputs": []
    },
    {
      "cell_type": "code",
      "metadata": {
        "id": "VEuuSjWYte5-"
      },
      "source": [
        "gtf = Infer();"
      ],
      "execution_count": null,
      "outputs": []
    },
    {
      "cell_type": "code",
      "metadata": {
        "id": "YWbOZk-rthzW"
      },
      "source": [
        "#our trained model weights are in here in onxx format\n",
        "gtf.Model(model_dir=\"trained/\")"
      ],
      "execution_count": null,
      "outputs": []
    },
    {
      "cell_type": "code",
      "metadata": {
        "id": "CH2Tv7gstkP_"
      },
      "source": [
        "#extract class list from our annotations\n",
        "import json\n",
        "with open('train/_annotations.coco.json') as json_file:\n",
        "    data = json.load(json_file)\n",
        "class_list = []\n",
        "for category in data['categories']:\n",
        "  class_list.append(category['name'])"
      ],
      "execution_count": null,
      "outputs": []
    },
    {
      "cell_type": "code",
      "metadata": {
        "id": "qMLy8LIcuRQS",
        "colab": {
          "base_uri": "https://localhost:8080/"
        },
        "outputId": "83b3e648-1699-4c43-9e38-fe2591b0c2d8"
      },
      "source": [
        "class_list"
      ],
      "execution_count": null,
      "outputs": [
        {
          "output_type": "execute_result",
          "data": {
            "text/plain": [
              "['Insulator', 'Insulator', 'tower']"
            ]
          },
          "metadata": {
            "tags": []
          },
          "execution_count": 27
        }
      ]
    },
    {
      "cell_type": "code",
      "metadata": {
        "id": "Oc87-3NPummz",
        "colab": {
          "base_uri": "https://localhost:8080/"
        },
        "outputId": "0edb5960-cf8e-43f0-cb9e-f3ab26f7201a"
      },
      "source": [
        "%%time\n",
        "test_images = [f for f in os.listdir('test') if f.endswith('.jpg')]\n",
        "import random\n",
        "img_path = \"test/\" + random.choice(test_images);\n",
        "duration, scores, labels, boxes = gtf.Predict(img_path, class_list, vis_threshold=0.2);"
      ],
      "execution_count": null,
      "outputs": [
        {
          "output_type": "stream",
          "text": [
            "Done. (0.090s)\n",
            "CPU times: user 85.4 ms, sys: 34 ms, total: 119 ms\n",
            "Wall time: 134 ms\n"
          ],
          "name": "stdout"
        }
      ]
    },
    {
      "cell_type": "code",
      "metadata": {
        "id": "KbJbgLggvGM_",
        "colab": {
          "base_uri": "https://localhost:8080/",
          "height": 433
        },
        "outputId": "e5823c71-f1c9-4a08-dbd0-dd66b7480256"
      },
      "source": [
        "from IPython.display import Image\n",
        "Image(filename='output.jpg') "
      ],
      "execution_count": null,
      "outputs": [
        {
          "output_type": "execute_result",
          "data": {
            "image/jpeg": "[encoded data removed]",
            "text/plain": [
              "<IPython.core.display.Image object>"
            ]
          },
          "metadata": {
            "tags": []
          },
          "execution_count": 29
        }
      ]
    },
    {
      "cell_type": "markdown",
      "metadata": {
        "id": "WfyWosXWrbWN"
      },
      "source": [
        "# Export Trained Weights"
      ]
    },
    {
      "cell_type": "code",
      "metadata": {
        "id": "KwDS9qqBbMQa",
        "colab": {
          "base_uri": "https://localhost:8080/"
        },
        "outputId": "0d5f32a5-4b83-4ea0-af79-74df4cacbc52"
      },
      "source": [
        "#export trained model\n",
        "# mount Google Drive\n",
        "from google.colab import drive\n",
        "drive.mount('/content/drive')"
      ],
      "execution_count": null,
      "outputs": [
        {
          "output_type": "stream",
          "text": [
            "Mounted at /content/drive\n"
          ],
          "name": "stdout"
        }
      ]
    },
    {
      "cell_type": "code",
      "metadata": {
        "id": "WSqXvZhlbfCc"
      },
      "source": [
        "%mkdir trained_export\n",
        "%cp ./trained/signatrix_efficientdet_coco.onnx ./trained_export/signatrix_efficientdet_coco_$(date +%F-%H:%M).onnx\n",
        "%cp ./trained/signatrix_efficientdet_coco.pth ./trained_export/signatrix_efficientdet_coco_$(date +%F-%H:%M).pth\n",
        "%mv ./trained_export/* /content/drive/My\\ Drive/"
      ],
      "execution_count": null,
      "outputs": []
    },
    {
      "cell_type": "markdown",
      "metadata": {
        "id": "7ieAIXwm11CO"
      },
      "source": [
        "# Reloading Trained Weights after Export\n",
        "\n",
        "Imagine you have exported your trained model and would like to reaccess it later. This portion of the notebook picks up the trained model and starts at inference\n"
      ]
    },
    {
      "cell_type": "code",
      "metadata": {
        "id": "fJ5__F0haiqP",
        "colab": {
          "base_uri": "https://localhost:8080/"
        },
        "outputId": "b2655c16-0a37-4d13-bdd4-20f765ae07a8"
      },
      "source": [
        "#export trained model\n",
        "# mount Google Drive\n",
        "from google.colab import drive\n",
        "drive.mount('/content/drive')"
      ],
      "execution_count": null,
      "outputs": [
        {
          "output_type": "stream",
          "text": [
            "Drive already mounted at /content/drive; to attempt to forcibly remount, call drive.mount(\"/content/drive\", force_remount=True).\n"
          ],
          "name": "stdout"
        }
      ]
    },
    {
      "cell_type": "code",
      "metadata": {
        "id": "nhyNJ7GsatcD",
        "colab": {
          "base_uri": "https://localhost:8080/"
        },
        "outputId": "63fc4bb8-5f5f-4c15-ae07-df1e74f8f757"
      },
      "source": [
        "#our fork of the Tessellate-Imaging image detection library\n",
        "#!rm -rf Monk_Object_Detection\n",
        "! git clone https://github.com/roboflow-ai/Monk_Object_Detection.git"
      ],
      "execution_count": null,
      "outputs": [
        {
          "output_type": "stream",
          "text": [
            "Cloning into 'Monk_Object_Detection'...\n",
            "remote: Enumerating objects: 3747, done.\u001b[K\n",
            "remote: Total 3747 (delta 0), reused 0 (delta 0), pack-reused 3747\u001b[K\n",
            "Receiving objects: 100% (3747/3747), 132.20 MiB | 37.02 MiB/s, done.\n",
            "Resolving deltas: 100% (800/800), done.\n",
            "Checking out files: 100% (4032/4032), done.\n"
          ],
          "name": "stdout"
        }
      ]
    },
    {
      "cell_type": "code",
      "metadata": {
        "id": "pTVWQohaa2WU",
        "colab": {
          "base_uri": "https://localhost:8080/"
        },
        "outputId": "f0806b04-a610-450c-b96a-4bfdbc684106"
      },
      "source": [
        "# For colab use the command below\n",
        "# Set up library requirments\n",
        "! cd Monk_Object_Detection/3_mxrcnn/installation && cat requirements_colab.txt | xargs -n 1 -L 1 pip install\n",
        "\n",
        "#fixed version of tqdm output for Colab\n",
        "!pip install --force https://github.com/chengs/tqdm/archive/colab.zip\n",
        "#IGNORE restart runtime warning, it is indeed installed\n",
        "#missing a few extra packages that we will need later! \n",
        "!pip install efficientnet_pytorch\n",
        "!pip install tensorboardX"
      ],
      "execution_count": null,
      "outputs": [
        {
          "output_type": "stream",
          "text": [
            "Collecting mxnet-cu100\n",
            "\u001b[?25l  Downloading https://files.pythonhosted.org/packages/85/09/a13d45136ce70589cceee4081f485f8f47fc5eb716d07981d4c2547763df/mxnet_cu100-1.8.0.post0-py2.py3-none-manylinux2014_x86_64.whl (352.6MB)\n",
            "\u001b[K     |████████████████████████████████| 352.6MB 48kB/s \n",
            "\u001b[?25hRequirement already satisfied: numpy<2.0.0,>1.16.0 in /usr/local/lib/python3.7/dist-packages (from mxnet-cu100) (1.19.5)\n",
            "Requirement already satisfied: requests<3,>=2.20.0 in /usr/local/lib/python3.7/dist-packages (from mxnet-cu100) (2.23.0)\n",
            "Collecting graphviz<0.9.0,>=0.8.1\n",
            "  Downloading https://files.pythonhosted.org/packages/53/39/4ab213673844e0c004bed8a0781a0721a3f6bb23eb8854ee75c236428892/graphviz-0.8.4-py2.py3-none-any.whl\n",
            "Requirement already satisfied: idna<3,>=2.5 in /usr/local/lib/python3.7/dist-packages (from requests<3,>=2.20.0->mxnet-cu100) (2.10)\n",
            "Requirement already satisfied: certifi>=2017.4.17 in /usr/local/lib/python3.7/dist-packages (from requests<3,>=2.20.0->mxnet-cu100) (2020.12.5)\n",
            "Requirement already satisfied: urllib3!=1.25.0,!=1.25.1,<1.26,>=1.21.1 in /usr/local/lib/python3.7/dist-packages (from requests<3,>=2.20.0->mxnet-cu100) (1.24.3)\n",
            "Requirement already satisfied: chardet<4,>=3.0.2 in /usr/local/lib/python3.7/dist-packages (from requests<3,>=2.20.0->mxnet-cu100) (3.0.4)\n",
            "Installing collected packages: graphviz, mxnet-cu100\n",
            "  Found existing installation: graphviz 0.10.1\n",
            "    Uninstalling graphviz-0.10.1:\n",
            "      Successfully uninstalled graphviz-0.10.1\n",
            "Successfully installed graphviz-0.8.4 mxnet-cu100-1.8.0.post0\n",
            "Collecting dicttoxml\n",
            "  Downloading https://files.pythonhosted.org/packages/74/36/534db111db9e7610a41641a1f6669a964aacaf51858f466de264cc8dcdd9/dicttoxml-1.7.4.tar.gz\n",
            "Building wheels for collected packages: dicttoxml\n",
            "  Building wheel for dicttoxml (setup.py) ... \u001b[?25l\u001b[?25hdone\n",
            "  Created wheel for dicttoxml: filename=dicttoxml-1.7.4-cp37-none-any.whl size=17452 sha256=44d084fe910f4482443f87d6c1376132c4b5204acdb592d1ddb08ac139858120\n",
            "  Stored in directory: /root/.cache/pip/wheels/62/4f/a3/afd4a68f5add45a668c14efa53b64d5cffb2be6bacf993c151\n",
            "Successfully built dicttoxml\n",
            "Installing collected packages: dicttoxml\n",
            "Successfully installed dicttoxml-1.7.4\n",
            "Collecting xmltodict\n",
            "  Downloading https://files.pythonhosted.org/packages/28/fd/30d5c1d3ac29ce229f6bdc40bbc20b28f716e8b363140c26eff19122d8a5/xmltodict-0.12.0-py2.py3-none-any.whl\n",
            "Installing collected packages: xmltodict\n",
            "Successfully installed xmltodict-0.12.0\n",
            "Requirement already satisfied: pycocotools from git+https://github.com/abhi-kumar/cocoapi.git#egg=pycocotools&subdirectory=PythonAPI in /usr/local/lib/python3.7/dist-packages (2.0.2)\n",
            "Requirement already satisfied: matplotlib>=2.1.0 in /usr/local/lib/python3.7/dist-packages (from pycocotools) (3.2.2)\n",
            "Requirement already satisfied: setuptools>=18.0 in /usr/local/lib/python3.7/dist-packages (from pycocotools) (54.2.0)\n",
            "Requirement already satisfied: cython>=0.27.3 in /usr/local/lib/python3.7/dist-packages (from pycocotools) (0.29.22)\n",
            "Requirement already satisfied: pyparsing!=2.0.4,!=2.1.2,!=2.1.6,>=2.0.1 in /usr/local/lib/python3.7/dist-packages (from matplotlib>=2.1.0->pycocotools) (2.4.7)\n",
            "Requirement already satisfied: python-dateutil>=2.1 in /usr/local/lib/python3.7/dist-packages (from matplotlib>=2.1.0->pycocotools) (2.8.1)\n",
            "Requirement already satisfied: numpy>=1.11 in /usr/local/lib/python3.7/dist-packages (from matplotlib>=2.1.0->pycocotools) (1.19.5)\n",
            "Requirement already satisfied: cycler>=0.10 in /usr/local/lib/python3.7/dist-packages (from matplotlib>=2.1.0->pycocotools) (0.10.0)\n",
            "Requirement already satisfied: kiwisolver>=1.0.1 in /usr/local/lib/python3.7/dist-packages (from matplotlib>=2.1.0->pycocotools) (1.3.1)\n",
            "Requirement already satisfied: six>=1.5 in /usr/local/lib/python3.7/dist-packages (from python-dateutil>=2.1->matplotlib>=2.1.0->pycocotools) (1.15.0)\n",
            "Collecting https://github.com/chengs/tqdm/archive/colab.zip\n",
            "\u001b[?25l  Downloading https://github.com/chengs/tqdm/archive/colab.zip\n",
            "\u001b[K     \\ 184kB 19.5MB/s\n",
            "\u001b[?25hBuilding wheels for collected packages: tqdm\n",
            "  Building wheel for tqdm (setup.py) ... \u001b[?25l\u001b[?25hdone\n",
            "  Created wheel for tqdm: filename=tqdm-4.28.1-py2.py3-none-any.whl size=47868 sha256=e21784d82e13a0c8e25896c9ea65c60c49c1f71e2ec35febf2a82da84e3ed16e\n",
            "  Stored in directory: /tmp/pip-ephem-wheel-cache-e2q076pj/wheels/41/18/ee/d5dd158441b27965855b1bbae03fa2d8a91fe645c01b419896\n",
            "Successfully built tqdm\n",
            "\u001b[31mERROR: spacy 2.2.4 has requirement tqdm<5.0.0,>=4.38.0, but you'll have tqdm 4.28.1 which is incompatible.\u001b[0m\n",
            "\u001b[31mERROR: fbprophet 0.7.1 has requirement tqdm>=4.36.1, but you'll have tqdm 4.28.1 which is incompatible.\u001b[0m\n",
            "Installing collected packages: tqdm\n",
            "  Found existing installation: tqdm 4.41.1\n",
            "    Uninstalling tqdm-4.41.1:\n",
            "      Successfully uninstalled tqdm-4.41.1\n",
            "Successfully installed tqdm-4.28.1\n",
            "Collecting efficientnet_pytorch\n",
            "  Downloading https://files.pythonhosted.org/packages/4e/83/f9c5f44060f996279e474185ebcbd8dbd91179593bffb9abe3afa55d085b/efficientnet_pytorch-0.7.0.tar.gz\n",
            "Requirement already satisfied: torch in /usr/local/lib/python3.7/dist-packages (from efficientnet_pytorch) (1.8.1+cu101)\n",
            "Requirement already satisfied: typing-extensions in /usr/local/lib/python3.7/dist-packages (from torch->efficientnet_pytorch) (3.7.4.3)\n",
            "Requirement already satisfied: numpy in /usr/local/lib/python3.7/dist-packages (from torch->efficientnet_pytorch) (1.19.5)\n",
            "Building wheels for collected packages: efficientnet-pytorch\n",
            "  Building wheel for efficientnet-pytorch (setup.py) ... \u001b[?25l\u001b[?25hdone\n",
            "  Created wheel for efficientnet-pytorch: filename=efficientnet_pytorch-0.7.0-cp37-none-any.whl size=16031 sha256=6d93d9bbab70a72ff309b438268d3a40551f81c03fd30a5912ba9383e36cc32a\n",
            "  Stored in directory: /root/.cache/pip/wheels/e9/c6/e1/7a808b26406239712cfce4b5ceeb67d9513ae32aa4b31445c6\n",
            "Successfully built efficientnet-pytorch\n",
            "Installing collected packages: efficientnet-pytorch\n",
            "Successfully installed efficientnet-pytorch-0.7.0\n",
            "Collecting tensorboardX\n",
            "\u001b[?25l  Downloading https://files.pythonhosted.org/packages/af/0c/4f41bcd45db376e6fe5c619c01100e9b7531c55791b7244815bac6eac32c/tensorboardX-2.1-py2.py3-none-any.whl (308kB)\n",
            "\u001b[K     |████████████████████████████████| 317kB 16.7MB/s \n",
            "\u001b[?25hRequirement already satisfied: protobuf>=3.8.0 in /usr/local/lib/python3.7/dist-packages (from tensorboardX) (3.12.4)\n",
            "Requirement already satisfied: six in /usr/local/lib/python3.7/dist-packages (from tensorboardX) (1.15.0)\n",
            "Requirement already satisfied: numpy in /usr/local/lib/python3.7/dist-packages (from tensorboardX) (1.19.5)\n",
            "Requirement already satisfied: setuptools in /usr/local/lib/python3.7/dist-packages (from protobuf>=3.8.0->tensorboardX) (54.2.0)\n",
            "Installing collected packages: tensorboardX\n",
            "Successfully installed tensorboardX-2.1\n"
          ],
          "name": "stdout"
        }
      ]
    },
    {
      "cell_type": "code",
      "metadata": {
        "id": "_rKXFWlLbZlf",
        "colab": {
          "base_uri": "https://localhost:8080/"
        },
        "outputId": "0ea9e968-539c-494b-a632-249a7edb7838"
      },
      "source": [
        "#recover trained weights\n",
        "!mkdir '/trained'\n",
        "!cp '/content/signatrix_efficientdet_coco.onnx' '/trained/signatrix_efficientdet_coco.onnx'\n",
        "!cp '/content/signatrix_efficientdet_coco.pth' '/trained/signatrix_efficientdet_coco.pth'"
      ],
      "execution_count": null,
      "outputs": [
        {
          "output_type": "stream",
          "text": [
            "mkdir: cannot create directory ‘/trained’: File exists\n"
          ],
          "name": "stdout"
        }
      ]
    },
    {
      "cell_type": "code",
      "metadata": {
        "id": "maetU4VddJNC"
      },
      "source": [
        "import os\n",
        "import sys\n",
        "sys.path.append(\"Monk_Object_Detection/4_efficientdet/lib/\");"
      ],
      "execution_count": null,
      "outputs": []
    },
    {
      "cell_type": "code",
      "metadata": {
        "id": "C3Jrco_TdkhU"
      },
      "source": [
        "from infer_detector import Infer\n",
        "gtf = Infer();"
      ],
      "execution_count": null,
      "outputs": []
    },
    {
      "cell_type": "code",
      "metadata": {
        "colab": {
          "base_uri": "https://localhost:8080/"
        },
        "id": "Kviir1Zpkl3S",
        "outputId": "8db025b6-7fce-4179-c43e-2c798765d0ca"
      },
      "source": [
        "cd /content/"
      ],
      "execution_count": null,
      "outputs": [
        {
          "output_type": "stream",
          "text": [
            "/content\n"
          ],
          "name": "stdout"
        }
      ]
    },
    {
      "cell_type": "code",
      "metadata": {
        "id": "GgZKzmI1egUa"
      },
      "source": [
        "#our trained model weights are in here in onxx format\n",
        "gtf.Model(model_dir=\"/trained\")"
      ],
      "execution_count": null,
      "outputs": []
    },
    {
      "cell_type": "code",
      "metadata": {
        "id": "lEksZQC5fMQ2",
        "colab": {
          "base_uri": "https://localhost:8080/"
        },
        "outputId": "12b1122c-a820-4243-cc10-f58d27a20448"
      },
      "source": [
        "#download some test data\n",
        "!curl -L [YOUR LINK HERE] | jar -x"
      ],
      "execution_count": null,
      "outputs": [
        {
          "output_type": "stream",
          "text": [
            "curl: (3) [globbing] bad range in column 2\n",
            "  % Total    % Received % Xferd  Average Speed   Time    Time     Time  Current\n",
            "                                 Dload  Upload   Total   Spent    Left  Speed\n",
            "\r  0     0    0     0    0     0      0      0 --:--:-- --:--:-- --:--:--     0curl: (6) Could not resolve host: LINK\n",
            "curl: (3) [globbing] unmatched close brace/bracket in column 5\n"
          ],
          "name": "stdout"
        }
      ]
    },
    {
      "cell_type": "code",
      "metadata": {
        "id": "ZOOGlzad1Kln",
        "colab": {
          "base_uri": "https://localhost:8080/"
        },
        "outputId": "762ec7f0-a35a-4449-d69c-77f719fa66fb"
      },
      "source": [
        "!ls valid"
      ],
      "execution_count": null,
      "outputs": [
        {
          "output_type": "stream",
          "text": [
            "11_00090_jpg.rf.22e83e21041e419c01ef8520f051230f.jpg\n",
            "16_3645_jpg.rf.598b597e32e9be3037c980f0ecc311c0.jpg\n",
            "22_00331_jpg.rf.ef9085aed5c067da9a73386cf1893b6e.jpg\n",
            "26_00083_jpg.rf.71466f4d9ec27eea574632d0a8f846ff.jpg\n",
            "27_00375_jpg.rf.87c8c15ab00545c2e906e34c5d9ee860.jpg\n",
            "29_00268_jpg.rf.f930be6cb1dedddb7ce60dce6a79385d.jpg\n",
            "31_7740_jpg.rf.d6c288dafa46d3dcc7338f8048873da7.jpg\n",
            "36_2190_jpg.rf.40712f959246d54ae6b7b10f97d1e5ac.jpg\n",
            "36_780_jpg.rf.0c7aa42d04fa36170c8056fa7b071e63.jpg\n",
            "_annotations.coco.json\n"
          ],
          "name": "stdout"
        }
      ]
    },
    {
      "cell_type": "code",
      "metadata": {
        "id": "M0qOyjPh1MOs"
      },
      "source": [
        "#extract class list from our annotations\n",
        "#in your application you will probably already have this saved\n",
        "import json\n",
        "with open('train/_annotations.coco.json') as json_file:\n",
        "    data = json.load(json_file)\n",
        "class_list = []\n",
        "for category in data['categories']:\n",
        "  class_list.append(category['name'])"
      ],
      "execution_count": null,
      "outputs": []
    },
    {
      "cell_type": "code",
      "metadata": {
        "id": "xW8EEb111csu",
        "colab": {
          "base_uri": "https://localhost:8080/"
        },
        "outputId": "f4ef6ea3-c8b8-4a35-a874-ab9ea2fb8fed"
      },
      "source": [
        "class_list"
      ],
      "execution_count": null,
      "outputs": [
        {
          "output_type": "execute_result",
          "data": {
            "text/plain": [
              "['Insulator', 'Insulator', 'tower']"
            ]
          },
          "metadata": {
            "tags": []
          },
          "execution_count": 12
        }
      ]
    },
    {
      "cell_type": "code",
      "metadata": {
        "id": "ObmqK4EI1ga0",
        "colab": {
          "base_uri": "https://localhost:8080/"
        },
        "outputId": "a91376ab-cc64-48a2-c63f-94dc2aff618d"
      },
      "source": [
        "%%time\n",
        "#bang!\n",
        "img_path = \"/content/test/25_00516_jpg.rf.aaaf64aeb5bec973b7fe934aa76acd88.jpg\";\n",
        "duration, scores, labels, boxes = gtf.Predict(img_path, class_list, vis_threshold=0.2);"
      ],
      "execution_count": null,
      "outputs": [
        {
          "output_type": "stream",
          "text": [
            "Done. (0.089s)\n",
            "CPU times: user 89.4 ms, sys: 28.8 ms, total: 118 ms\n",
            "Wall time: 115 ms\n"
          ],
          "name": "stdout"
        }
      ]
    },
    {
      "cell_type": "code",
      "metadata": {
        "id": "AINktQgG1kmc",
        "colab": {
          "base_uri": "https://localhost:8080/",
          "height": 433
        },
        "outputId": "8d53441f-c59e-44c9-cee2-72408e1b6e6d"
      },
      "source": [
        "from IPython.display import Image\n",
        "Image(filename='output.jpg') "
      ],
      "execution_count": null,
      "outputs": [
        {
          "output_type": "execute_result",
          "data": {
            "image/jpeg": "[encoded data removed]",
            "text/plain": [
              "<IPython.core.display.Image object>"
            ]
          },
          "metadata": {
            "tags": []
          },
          "execution_count": 29
        }
      ]
    },
    {
      "cell_type": "code",
      "metadata": {
        "id": "y5Bft9UGqEQq"
      },
      "source": [
        ""
      ],
      "execution_count": null,
      "outputs": []
    }
  ]
}